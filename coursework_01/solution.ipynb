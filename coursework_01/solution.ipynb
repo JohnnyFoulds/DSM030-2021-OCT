{
 "cells": [
  {
   "cell_type": "markdown",
   "metadata": {},
   "source": [
    "# Import Libraries"
   ]
  },
  {
   "cell_type": "code",
   "execution_count": 110,
   "metadata": {},
   "outputs": [],
   "source": [
    "# suppresse future warnings\n",
    "import warnings\n",
    "warnings.simplefilter(action='ignore', category=FutureWarning)"
   ]
  },
  {
   "cell_type": "code",
   "execution_count": 111,
   "metadata": {},
   "outputs": [],
   "source": [
    "import pandas as pd\n",
    "import numpy as np\n",
    "import plotly.express as px"
   ]
  },
  {
   "cell_type": "code",
   "execution_count": 112,
   "metadata": {},
   "outputs": [],
   "source": [
    "# configure loggin and test that it is working\n",
    "import logging\n",
    "logging.basicConfig(filename='cw01.log', filemode='w', level=logging.CRITICAL)\n",
    "logging.warning('Watch out!')"
   ]
  },
  {
   "cell_type": "markdown",
   "metadata": {},
   "source": [
    "# Load and explore the data (4 marks)"
   ]
  },
  {
   "cell_type": "code",
   "execution_count": 113,
   "metadata": {},
   "outputs": [
    {
     "name": "stdout",
     "output_type": "stream",
     "text": [
      "<class 'pandas.core.frame.DataFrame'>\n",
      "RangeIndex: 10649 entries, 0 to 10648\n",
      "Data columns (total 4 columns):\n",
      " #   Column       Non-Null Count  Dtype \n",
      "---  ------       --------------  ----- \n",
      " 0   Description  10637 non-null  object\n",
      " 1   Level_1      10649 non-null  object\n",
      " 2   Level_2      10649 non-null  object\n",
      " 3   Level_3      10649 non-null  object\n",
      "dtypes: object(4)\n",
      "memory usage: 332.9+ KB\n"
     ]
    }
   ],
   "source": [
    "# load the dataset\n",
    "source_path = 'data/raw/product-cat-dataset.csv'\n",
    "#source_path = 'data/raw/product-category-dataset.csv'\n",
    "\n",
    "df_source = pd.read_csv(source_path)\n",
    "df_source.info()"
   ]
  },
  {
   "cell_type": "code",
   "execution_count": 114,
   "metadata": {},
   "outputs": [
    {
     "data": {
      "text/html": [
       "<div>\n",
       "<style scoped>\n",
       "    .dataframe tbody tr th:only-of-type {\n",
       "        vertical-align: middle;\n",
       "    }\n",
       "\n",
       "    .dataframe tbody tr th {\n",
       "        vertical-align: top;\n",
       "    }\n",
       "\n",
       "    .dataframe thead th {\n",
       "        text-align: right;\n",
       "    }\n",
       "</style>\n",
       "<table border=\"1\" class=\"dataframe\">\n",
       "  <thead>\n",
       "    <tr style=\"text-align: right;\">\n",
       "      <th></th>\n",
       "      <th>Description</th>\n",
       "      <th>Level_1</th>\n",
       "      <th>Level_2</th>\n",
       "      <th>Level_3</th>\n",
       "    </tr>\n",
       "  </thead>\n",
       "  <tbody>\n",
       "    <tr>\n",
       "      <th>0</th>\n",
       "      <td>gerb cap help keep littl on head cov warm day ...</td>\n",
       "      <td>09BF5150</td>\n",
       "      <td>C7E19</td>\n",
       "      <td>D06E</td>\n",
       "    </tr>\n",
       "    <tr>\n",
       "      <th>1</th>\n",
       "      <td>newborn inf toddl boy hoody jacket oshkosh b g...</td>\n",
       "      <td>2CEC27F1</td>\n",
       "      <td>ADAD6</td>\n",
       "      <td>98CF</td>\n",
       "    </tr>\n",
       "    <tr>\n",
       "      <th>2</th>\n",
       "      <td>tut ballet anym leap foxy fash ruffl tul toddl...</td>\n",
       "      <td>09BF5150</td>\n",
       "      <td>C7E19</td>\n",
       "      <td>D06E</td>\n",
       "    </tr>\n",
       "    <tr>\n",
       "      <th>3</th>\n",
       "      <td>newborn inf toddl boy hoody jacket oshkosh b g...</td>\n",
       "      <td>2CEC27F1</td>\n",
       "      <td>ADAD6</td>\n",
       "      <td>98CF</td>\n",
       "    </tr>\n",
       "    <tr>\n",
       "      <th>4</th>\n",
       "      <td>easy keep feel warm cozy inf toddl girl hoody ...</td>\n",
       "      <td>2CEC27F1</td>\n",
       "      <td>ADAD6</td>\n",
       "      <td>98CF</td>\n",
       "    </tr>\n",
       "  </tbody>\n",
       "</table>\n",
       "</div>"
      ],
      "text/plain": [
       "                                         Description   Level_1 Level_2 Level_3\n",
       "0  gerb cap help keep littl on head cov warm day ...  09BF5150   C7E19    D06E\n",
       "1  newborn inf toddl boy hoody jacket oshkosh b g...  2CEC27F1   ADAD6    98CF\n",
       "2  tut ballet anym leap foxy fash ruffl tul toddl...  09BF5150   C7E19    D06E\n",
       "3  newborn inf toddl boy hoody jacket oshkosh b g...  2CEC27F1   ADAD6    98CF\n",
       "4  easy keep feel warm cozy inf toddl girl hoody ...  2CEC27F1   ADAD6    98CF"
      ]
     },
     "execution_count": 114,
     "metadata": {},
     "output_type": "execute_result"
    }
   ],
   "source": [
    "df_source.head()"
   ]
  },
  {
   "cell_type": "markdown",
   "metadata": {},
   "source": [
    "## Explore Levels\n",
    "\n",
    "Get an overview of hirachy of levels used in the dataset."
   ]
  },
  {
   "cell_type": "code",
   "execution_count": 115,
   "metadata": {},
   "outputs": [
    {
     "data": {
      "text/html": [
       "<div>\n",
       "<style scoped>\n",
       "    .dataframe tbody tr th:only-of-type {\n",
       "        vertical-align: middle;\n",
       "    }\n",
       "\n",
       "    .dataframe tbody tr th {\n",
       "        vertical-align: top;\n",
       "    }\n",
       "\n",
       "    .dataframe thead th {\n",
       "        text-align: right;\n",
       "    }\n",
       "</style>\n",
       "<table border=\"1\" class=\"dataframe\">\n",
       "  <thead>\n",
       "    <tr style=\"text-align: right;\">\n",
       "      <th></th>\n",
       "      <th></th>\n",
       "      <th></th>\n",
       "      <th>count</th>\n",
       "    </tr>\n",
       "    <tr>\n",
       "      <th>Level_1</th>\n",
       "      <th>Level_2</th>\n",
       "      <th>Level_3</th>\n",
       "      <th></th>\n",
       "    </tr>\n",
       "  </thead>\n",
       "  <tbody>\n",
       "    <tr>\n",
       "      <th rowspan=\"2\" valign=\"top\">014303D1</th>\n",
       "      <th>77F62</th>\n",
       "      <th>5AE1</th>\n",
       "      <td>229</td>\n",
       "    </tr>\n",
       "    <tr>\n",
       "      <th>7AED7</th>\n",
       "      <th>6539</th>\n",
       "      <td>282</td>\n",
       "    </tr>\n",
       "    <tr>\n",
       "      <th rowspan=\"8\" valign=\"top\">09BF5150</th>\n",
       "      <th>262E7</th>\n",
       "      <th>29B3</th>\n",
       "      <td>65</td>\n",
       "    </tr>\n",
       "    <tr>\n",
       "      <th>5E038</th>\n",
       "      <th>6BE5</th>\n",
       "      <td>118</td>\n",
       "    </tr>\n",
       "    <tr>\n",
       "      <th>6C6B1</th>\n",
       "      <th>3AAD</th>\n",
       "      <td>38</td>\n",
       "    </tr>\n",
       "    <tr>\n",
       "      <th>915D4</th>\n",
       "      <th>A2FA</th>\n",
       "      <td>47</td>\n",
       "    </tr>\n",
       "    <tr>\n",
       "      <th>A6301</th>\n",
       "      <th>DC8D</th>\n",
       "      <td>1</td>\n",
       "    </tr>\n",
       "    <tr>\n",
       "      <th>AF6B9</th>\n",
       "      <th>A104</th>\n",
       "      <td>38</td>\n",
       "    </tr>\n",
       "    <tr>\n",
       "      <th>C7E19</th>\n",
       "      <th>D06E</th>\n",
       "      <td>429</td>\n",
       "    </tr>\n",
       "    <tr>\n",
       "      <th>F824F</th>\n",
       "      <th>7288</th>\n",
       "      <td>74</td>\n",
       "    </tr>\n",
       "  </tbody>\n",
       "</table>\n",
       "</div>"
      ],
      "text/plain": [
       "                          count\n",
       "Level_1  Level_2 Level_3       \n",
       "014303D1 77F62   5AE1       229\n",
       "         7AED7   6539       282\n",
       "09BF5150 262E7   29B3        65\n",
       "         5E038   6BE5       118\n",
       "         6C6B1   3AAD        38\n",
       "         915D4   A2FA        47\n",
       "         A6301   DC8D         1\n",
       "         AF6B9   A104        38\n",
       "         C7E19   D06E       429\n",
       "         F824F   7288        74"
      ]
     },
     "execution_count": 115,
     "metadata": {},
     "output_type": "execute_result"
    }
   ],
   "source": [
    "# perform data grouping\n",
    "source_grouped = df_source.groupby(['Level_1', 'Level_2', 'Level_3'])\n",
    "source_grouped_count = source_grouped.size().to_frame(name = 'count')\n",
    "source_grouped_count.head(10)"
   ]
  },
  {
   "cell_type": "code",
   "execution_count": 116,
   "metadata": {},
   "outputs": [
    {
     "data": {
      "application/vnd.plotly.v1+json": {
       "config": {
        "plotlyServerURL": "https://plot.ly"
       },
       "data": [
        {
         "branchvalues": "total",
         "domain": {
          "x": [
           0,
           1
          ],
          "y": [
           0,
           1
          ]
         },
         "hovertemplate": "labels=%{label}<br>count=%{value}<br>parent=%{parent}<br>id=%{id}<extra></extra>",
         "ids": [
          "3E1E0D78/9D9EE/05A0",
          "EFEF723B/02FA0/078B",
          "57164AC1/7B638/0F8B",
          "90A8B052/08960/1000",
          "B092BA29/375FE/1F61",
          "4513C920/F4055/1F75",
          "4513C920/31FED/215F",
          "35E04739/B2DB4/21DA",
          "69286F45/2D5A3/28A7",
          "09BF5150/262E7/29B3",
          "2CEC27F1/BAE8A/2ABA",
          "3E1E0D78/E6162/2E14",
          "D410C91A/ACD06/33D1",
          "09BF5150/6C6B1/3AAD",
          "4513C920/31FED/3DD3",
          "57164AC1/94728/5912",
          "014303D1/77F62/5AE1",
          "EFEF723B/D5531/6253",
          "EFEF723B/CB803/627D",
          "4C3D8686/74974/62E8",
          "014303D1/7AED7/6539",
          "35E04739/390F1/6856",
          "09BF5150/5E038/6BE5",
          "09BF5150/F824F/7288",
          "4513C920/F4055/7C00",
          "AAC8EE56/9B69F/80C4",
          "57164AC1/0864A/96B8",
          "2CEC27F1/ADAD6/98CF",
          "90A8B052/C719A/A0E2",
          "09BF5150/AF6B9/A104",
          "09BF5150/915D4/A2FA",
          "B092BA29/5A8AB/AA6B",
          "35E04739/80D5B/B4A7",
          "96F95EEC/36080/C563",
          "96F95EEC/A04D3/C5B4",
          "57164AC1/94728/CF52",
          "09BF5150/C7E19/D06E",
          "AAC8EE56/914A1/D97D",
          "09BF5150/A6301/DC8D",
          "4513C920/E69F5/DDD5",
          "2CEC27F1/BAE8A/DE3D",
          "57164AC1/C66C5/E9F4",
          "4C3D8686/223B2/F213",
          "EFEF723B/02FA0",
          "57164AC1/0864A",
          "90A8B052/08960",
          "4C3D8686/223B2",
          "09BF5150/262E7",
          "69286F45/2D5A3",
          "4513C920/31FED",
          "96F95EEC/36080",
          "B092BA29/375FE",
          "35E04739/390F1",
          "B092BA29/5A8AB",
          "09BF5150/5E038",
          "09BF5150/6C6B1",
          "4C3D8686/74974",
          "014303D1/77F62",
          "014303D1/7AED7",
          "57164AC1/7B638",
          "35E04739/80D5B",
          "AAC8EE56/914A1",
          "09BF5150/915D4",
          "57164AC1/94728",
          "AAC8EE56/9B69F",
          "3E1E0D78/9D9EE",
          "96F95EEC/A04D3",
          "09BF5150/A6301",
          "D410C91A/ACD06",
          "2CEC27F1/ADAD6",
          "09BF5150/AF6B9",
          "35E04739/B2DB4",
          "2CEC27F1/BAE8A",
          "57164AC1/C66C5",
          "90A8B052/C719A",
          "09BF5150/C7E19",
          "EFEF723B/CB803",
          "EFEF723B/D5531",
          "3E1E0D78/E6162",
          "4513C920/E69F5",
          "4513C920/F4055",
          "09BF5150/F824F",
          "014303D1",
          "09BF5150",
          "2CEC27F1",
          "35E04739",
          "3E1E0D78",
          "4513C920",
          "4C3D8686",
          "57164AC1",
          "69286F45",
          "90A8B052",
          "96F95EEC",
          "AAC8EE56",
          "B092BA29",
          "D410C91A",
          "EFEF723B"
         ],
         "labels": [
          "05A0",
          "078B",
          "0F8B",
          "1000",
          "1F61",
          "1F75",
          "215F",
          "21DA",
          "28A7",
          "29B3",
          "2ABA",
          "2E14",
          "33D1",
          "3AAD",
          "3DD3",
          "5912",
          "5AE1",
          "6253",
          "627D",
          "62E8",
          "6539",
          "6856",
          "6BE5",
          "7288",
          "7C00",
          "80C4",
          "96B8",
          "98CF",
          "A0E2",
          "A104",
          "A2FA",
          "AA6B",
          "B4A7",
          "C563",
          "C5B4",
          "CF52",
          "D06E",
          "D97D",
          "DC8D",
          "DDD5",
          "DE3D",
          "E9F4",
          "F213",
          "02FA0",
          "0864A",
          "08960",
          "223B2",
          "262E7",
          "2D5A3",
          "31FED",
          "36080",
          "375FE",
          "390F1",
          "5A8AB",
          "5E038",
          "6C6B1",
          "74974",
          "77F62",
          "7AED7",
          "7B638",
          "80D5B",
          "914A1",
          "915D4",
          "94728",
          "9B69F",
          "9D9EE",
          "A04D3",
          "A6301",
          "ACD06",
          "ADAD6",
          "AF6B9",
          "B2DB4",
          "BAE8A",
          "C66C5",
          "C719A",
          "C7E19",
          "CB803",
          "D5531",
          "E6162",
          "E69F5",
          "F4055",
          "F824F",
          "014303D1",
          "09BF5150",
          "2CEC27F1",
          "35E04739",
          "3E1E0D78",
          "4513C920",
          "4C3D8686",
          "57164AC1",
          "69286F45",
          "90A8B052",
          "96F95EEC",
          "AAC8EE56",
          "B092BA29",
          "D410C91A",
          "EFEF723B"
         ],
         "name": "",
         "parents": [
          "3E1E0D78/9D9EE",
          "EFEF723B/02FA0",
          "57164AC1/7B638",
          "90A8B052/08960",
          "B092BA29/375FE",
          "4513C920/F4055",
          "4513C920/31FED",
          "35E04739/B2DB4",
          "69286F45/2D5A3",
          "09BF5150/262E7",
          "2CEC27F1/BAE8A",
          "3E1E0D78/E6162",
          "D410C91A/ACD06",
          "09BF5150/6C6B1",
          "4513C920/31FED",
          "57164AC1/94728",
          "014303D1/77F62",
          "EFEF723B/D5531",
          "EFEF723B/CB803",
          "4C3D8686/74974",
          "014303D1/7AED7",
          "35E04739/390F1",
          "09BF5150/5E038",
          "09BF5150/F824F",
          "4513C920/F4055",
          "AAC8EE56/9B69F",
          "57164AC1/0864A",
          "2CEC27F1/ADAD6",
          "90A8B052/C719A",
          "09BF5150/AF6B9",
          "09BF5150/915D4",
          "B092BA29/5A8AB",
          "35E04739/80D5B",
          "96F95EEC/36080",
          "96F95EEC/A04D3",
          "57164AC1/94728",
          "09BF5150/C7E19",
          "AAC8EE56/914A1",
          "09BF5150/A6301",
          "4513C920/E69F5",
          "2CEC27F1/BAE8A",
          "57164AC1/C66C5",
          "4C3D8686/223B2",
          "EFEF723B",
          "57164AC1",
          "90A8B052",
          "4C3D8686",
          "09BF5150",
          "69286F45",
          "4513C920",
          "96F95EEC",
          "B092BA29",
          "35E04739",
          "B092BA29",
          "09BF5150",
          "09BF5150",
          "4C3D8686",
          "014303D1",
          "014303D1",
          "57164AC1",
          "35E04739",
          "AAC8EE56",
          "09BF5150",
          "57164AC1",
          "AAC8EE56",
          "3E1E0D78",
          "96F95EEC",
          "09BF5150",
          "D410C91A",
          "2CEC27F1",
          "09BF5150",
          "35E04739",
          "2CEC27F1",
          "57164AC1",
          "90A8B052",
          "09BF5150",
          "EFEF723B",
          "EFEF723B",
          "3E1E0D78",
          "4513C920",
          "4513C920",
          "09BF5150",
          "",
          "",
          "",
          "",
          "",
          "",
          "",
          "",
          "",
          "",
          "",
          "",
          "",
          "",
          ""
         ],
         "type": "treemap",
         "values": [
          462,
          264,
          420,
          24,
          450,
          199,
          33,
          449,
          797,
          65,
          448,
          117,
          504,
          38,
          53,
          439,
          229,
          88,
          448,
          447,
          282,
          441,
          118,
          74,
          164,
          447,
          16,
          410,
          482,
          38,
          47,
          450,
          6,
          176,
          411,
          1,
          429,
          443,
          1,
          109,
          1,
          1,
          128,
          264,
          16,
          24,
          128,
          65,
          797,
          86,
          176,
          450,
          441,
          450,
          118,
          38,
          447,
          229,
          282,
          420,
          6,
          443,
          47,
          440,
          447,
          462,
          411,
          1,
          504,
          410,
          38,
          449,
          449,
          1,
          482,
          429,
          448,
          88,
          117,
          109,
          363,
          74,
          511,
          810,
          859,
          896,
          579,
          558,
          575,
          877,
          797,
          506,
          587,
          890,
          900,
          504,
          800
         ]
        }
       ],
       "layout": {
        "legend": {
         "tracegroupgap": 0
        },
        "margin": {
         "b": 25,
         "l": 25,
         "r": 25,
         "t": 25
        },
        "template": {
         "data": {
          "bar": [
           {
            "error_x": {
             "color": "#2a3f5f"
            },
            "error_y": {
             "color": "#2a3f5f"
            },
            "marker": {
             "line": {
              "color": "#E5ECF6",
              "width": 0.5
             },
             "pattern": {
              "fillmode": "overlay",
              "size": 10,
              "solidity": 0.2
             }
            },
            "type": "bar"
           }
          ],
          "barpolar": [
           {
            "marker": {
             "line": {
              "color": "#E5ECF6",
              "width": 0.5
             },
             "pattern": {
              "fillmode": "overlay",
              "size": 10,
              "solidity": 0.2
             }
            },
            "type": "barpolar"
           }
          ],
          "carpet": [
           {
            "aaxis": {
             "endlinecolor": "#2a3f5f",
             "gridcolor": "white",
             "linecolor": "white",
             "minorgridcolor": "white",
             "startlinecolor": "#2a3f5f"
            },
            "baxis": {
             "endlinecolor": "#2a3f5f",
             "gridcolor": "white",
             "linecolor": "white",
             "minorgridcolor": "white",
             "startlinecolor": "#2a3f5f"
            },
            "type": "carpet"
           }
          ],
          "choropleth": [
           {
            "colorbar": {
             "outlinewidth": 0,
             "ticks": ""
            },
            "type": "choropleth"
           }
          ],
          "contour": [
           {
            "colorbar": {
             "outlinewidth": 0,
             "ticks": ""
            },
            "colorscale": [
             [
              0,
              "#0d0887"
             ],
             [
              0.1111111111111111,
              "#46039f"
             ],
             [
              0.2222222222222222,
              "#7201a8"
             ],
             [
              0.3333333333333333,
              "#9c179e"
             ],
             [
              0.4444444444444444,
              "#bd3786"
             ],
             [
              0.5555555555555556,
              "#d8576b"
             ],
             [
              0.6666666666666666,
              "#ed7953"
             ],
             [
              0.7777777777777778,
              "#fb9f3a"
             ],
             [
              0.8888888888888888,
              "#fdca26"
             ],
             [
              1,
              "#f0f921"
             ]
            ],
            "type": "contour"
           }
          ],
          "contourcarpet": [
           {
            "colorbar": {
             "outlinewidth": 0,
             "ticks": ""
            },
            "type": "contourcarpet"
           }
          ],
          "heatmap": [
           {
            "colorbar": {
             "outlinewidth": 0,
             "ticks": ""
            },
            "colorscale": [
             [
              0,
              "#0d0887"
             ],
             [
              0.1111111111111111,
              "#46039f"
             ],
             [
              0.2222222222222222,
              "#7201a8"
             ],
             [
              0.3333333333333333,
              "#9c179e"
             ],
             [
              0.4444444444444444,
              "#bd3786"
             ],
             [
              0.5555555555555556,
              "#d8576b"
             ],
             [
              0.6666666666666666,
              "#ed7953"
             ],
             [
              0.7777777777777778,
              "#fb9f3a"
             ],
             [
              0.8888888888888888,
              "#fdca26"
             ],
             [
              1,
              "#f0f921"
             ]
            ],
            "type": "heatmap"
           }
          ],
          "heatmapgl": [
           {
            "colorbar": {
             "outlinewidth": 0,
             "ticks": ""
            },
            "colorscale": [
             [
              0,
              "#0d0887"
             ],
             [
              0.1111111111111111,
              "#46039f"
             ],
             [
              0.2222222222222222,
              "#7201a8"
             ],
             [
              0.3333333333333333,
              "#9c179e"
             ],
             [
              0.4444444444444444,
              "#bd3786"
             ],
             [
              0.5555555555555556,
              "#d8576b"
             ],
             [
              0.6666666666666666,
              "#ed7953"
             ],
             [
              0.7777777777777778,
              "#fb9f3a"
             ],
             [
              0.8888888888888888,
              "#fdca26"
             ],
             [
              1,
              "#f0f921"
             ]
            ],
            "type": "heatmapgl"
           }
          ],
          "histogram": [
           {
            "marker": {
             "pattern": {
              "fillmode": "overlay",
              "size": 10,
              "solidity": 0.2
             }
            },
            "type": "histogram"
           }
          ],
          "histogram2d": [
           {
            "colorbar": {
             "outlinewidth": 0,
             "ticks": ""
            },
            "colorscale": [
             [
              0,
              "#0d0887"
             ],
             [
              0.1111111111111111,
              "#46039f"
             ],
             [
              0.2222222222222222,
              "#7201a8"
             ],
             [
              0.3333333333333333,
              "#9c179e"
             ],
             [
              0.4444444444444444,
              "#bd3786"
             ],
             [
              0.5555555555555556,
              "#d8576b"
             ],
             [
              0.6666666666666666,
              "#ed7953"
             ],
             [
              0.7777777777777778,
              "#fb9f3a"
             ],
             [
              0.8888888888888888,
              "#fdca26"
             ],
             [
              1,
              "#f0f921"
             ]
            ],
            "type": "histogram2d"
           }
          ],
          "histogram2dcontour": [
           {
            "colorbar": {
             "outlinewidth": 0,
             "ticks": ""
            },
            "colorscale": [
             [
              0,
              "#0d0887"
             ],
             [
              0.1111111111111111,
              "#46039f"
             ],
             [
              0.2222222222222222,
              "#7201a8"
             ],
             [
              0.3333333333333333,
              "#9c179e"
             ],
             [
              0.4444444444444444,
              "#bd3786"
             ],
             [
              0.5555555555555556,
              "#d8576b"
             ],
             [
              0.6666666666666666,
              "#ed7953"
             ],
             [
              0.7777777777777778,
              "#fb9f3a"
             ],
             [
              0.8888888888888888,
              "#fdca26"
             ],
             [
              1,
              "#f0f921"
             ]
            ],
            "type": "histogram2dcontour"
           }
          ],
          "mesh3d": [
           {
            "colorbar": {
             "outlinewidth": 0,
             "ticks": ""
            },
            "type": "mesh3d"
           }
          ],
          "parcoords": [
           {
            "line": {
             "colorbar": {
              "outlinewidth": 0,
              "ticks": ""
             }
            },
            "type": "parcoords"
           }
          ],
          "pie": [
           {
            "automargin": true,
            "type": "pie"
           }
          ],
          "scatter": [
           {
            "marker": {
             "colorbar": {
              "outlinewidth": 0,
              "ticks": ""
             }
            },
            "type": "scatter"
           }
          ],
          "scatter3d": [
           {
            "line": {
             "colorbar": {
              "outlinewidth": 0,
              "ticks": ""
             }
            },
            "marker": {
             "colorbar": {
              "outlinewidth": 0,
              "ticks": ""
             }
            },
            "type": "scatter3d"
           }
          ],
          "scattercarpet": [
           {
            "marker": {
             "colorbar": {
              "outlinewidth": 0,
              "ticks": ""
             }
            },
            "type": "scattercarpet"
           }
          ],
          "scattergeo": [
           {
            "marker": {
             "colorbar": {
              "outlinewidth": 0,
              "ticks": ""
             }
            },
            "type": "scattergeo"
           }
          ],
          "scattergl": [
           {
            "marker": {
             "colorbar": {
              "outlinewidth": 0,
              "ticks": ""
             }
            },
            "type": "scattergl"
           }
          ],
          "scattermapbox": [
           {
            "marker": {
             "colorbar": {
              "outlinewidth": 0,
              "ticks": ""
             }
            },
            "type": "scattermapbox"
           }
          ],
          "scatterpolar": [
           {
            "marker": {
             "colorbar": {
              "outlinewidth": 0,
              "ticks": ""
             }
            },
            "type": "scatterpolar"
           }
          ],
          "scatterpolargl": [
           {
            "marker": {
             "colorbar": {
              "outlinewidth": 0,
              "ticks": ""
             }
            },
            "type": "scatterpolargl"
           }
          ],
          "scatterternary": [
           {
            "marker": {
             "colorbar": {
              "outlinewidth": 0,
              "ticks": ""
             }
            },
            "type": "scatterternary"
           }
          ],
          "surface": [
           {
            "colorbar": {
             "outlinewidth": 0,
             "ticks": ""
            },
            "colorscale": [
             [
              0,
              "#0d0887"
             ],
             [
              0.1111111111111111,
              "#46039f"
             ],
             [
              0.2222222222222222,
              "#7201a8"
             ],
             [
              0.3333333333333333,
              "#9c179e"
             ],
             [
              0.4444444444444444,
              "#bd3786"
             ],
             [
              0.5555555555555556,
              "#d8576b"
             ],
             [
              0.6666666666666666,
              "#ed7953"
             ],
             [
              0.7777777777777778,
              "#fb9f3a"
             ],
             [
              0.8888888888888888,
              "#fdca26"
             ],
             [
              1,
              "#f0f921"
             ]
            ],
            "type": "surface"
           }
          ],
          "table": [
           {
            "cells": {
             "fill": {
              "color": "#EBF0F8"
             },
             "line": {
              "color": "white"
             }
            },
            "header": {
             "fill": {
              "color": "#C8D4E3"
             },
             "line": {
              "color": "white"
             }
            },
            "type": "table"
           }
          ]
         },
         "layout": {
          "annotationdefaults": {
           "arrowcolor": "#2a3f5f",
           "arrowhead": 0,
           "arrowwidth": 1
          },
          "autotypenumbers": "strict",
          "coloraxis": {
           "colorbar": {
            "outlinewidth": 0,
            "ticks": ""
           }
          },
          "colorscale": {
           "diverging": [
            [
             0,
             "#8e0152"
            ],
            [
             0.1,
             "#c51b7d"
            ],
            [
             0.2,
             "#de77ae"
            ],
            [
             0.3,
             "#f1b6da"
            ],
            [
             0.4,
             "#fde0ef"
            ],
            [
             0.5,
             "#f7f7f7"
            ],
            [
             0.6,
             "#e6f5d0"
            ],
            [
             0.7,
             "#b8e186"
            ],
            [
             0.8,
             "#7fbc41"
            ],
            [
             0.9,
             "#4d9221"
            ],
            [
             1,
             "#276419"
            ]
           ],
           "sequential": [
            [
             0,
             "#0d0887"
            ],
            [
             0.1111111111111111,
             "#46039f"
            ],
            [
             0.2222222222222222,
             "#7201a8"
            ],
            [
             0.3333333333333333,
             "#9c179e"
            ],
            [
             0.4444444444444444,
             "#bd3786"
            ],
            [
             0.5555555555555556,
             "#d8576b"
            ],
            [
             0.6666666666666666,
             "#ed7953"
            ],
            [
             0.7777777777777778,
             "#fb9f3a"
            ],
            [
             0.8888888888888888,
             "#fdca26"
            ],
            [
             1,
             "#f0f921"
            ]
           ],
           "sequentialminus": [
            [
             0,
             "#0d0887"
            ],
            [
             0.1111111111111111,
             "#46039f"
            ],
            [
             0.2222222222222222,
             "#7201a8"
            ],
            [
             0.3333333333333333,
             "#9c179e"
            ],
            [
             0.4444444444444444,
             "#bd3786"
            ],
            [
             0.5555555555555556,
             "#d8576b"
            ],
            [
             0.6666666666666666,
             "#ed7953"
            ],
            [
             0.7777777777777778,
             "#fb9f3a"
            ],
            [
             0.8888888888888888,
             "#fdca26"
            ],
            [
             1,
             "#f0f921"
            ]
           ]
          },
          "colorway": [
           "#636efa",
           "#EF553B",
           "#00cc96",
           "#ab63fa",
           "#FFA15A",
           "#19d3f3",
           "#FF6692",
           "#B6E880",
           "#FF97FF",
           "#FECB52"
          ],
          "font": {
           "color": "#2a3f5f"
          },
          "geo": {
           "bgcolor": "white",
           "lakecolor": "white",
           "landcolor": "#E5ECF6",
           "showlakes": true,
           "showland": true,
           "subunitcolor": "white"
          },
          "hoverlabel": {
           "align": "left"
          },
          "hovermode": "closest",
          "mapbox": {
           "style": "light"
          },
          "paper_bgcolor": "white",
          "plot_bgcolor": "#E5ECF6",
          "polar": {
           "angularaxis": {
            "gridcolor": "white",
            "linecolor": "white",
            "ticks": ""
           },
           "bgcolor": "#E5ECF6",
           "radialaxis": {
            "gridcolor": "white",
            "linecolor": "white",
            "ticks": ""
           }
          },
          "scene": {
           "xaxis": {
            "backgroundcolor": "#E5ECF6",
            "gridcolor": "white",
            "gridwidth": 2,
            "linecolor": "white",
            "showbackground": true,
            "ticks": "",
            "zerolinecolor": "white"
           },
           "yaxis": {
            "backgroundcolor": "#E5ECF6",
            "gridcolor": "white",
            "gridwidth": 2,
            "linecolor": "white",
            "showbackground": true,
            "ticks": "",
            "zerolinecolor": "white"
           },
           "zaxis": {
            "backgroundcolor": "#E5ECF6",
            "gridcolor": "white",
            "gridwidth": 2,
            "linecolor": "white",
            "showbackground": true,
            "ticks": "",
            "zerolinecolor": "white"
           }
          },
          "shapedefaults": {
           "line": {
            "color": "#2a3f5f"
           }
          },
          "ternary": {
           "aaxis": {
            "gridcolor": "white",
            "linecolor": "white",
            "ticks": ""
           },
           "baxis": {
            "gridcolor": "white",
            "linecolor": "white",
            "ticks": ""
           },
           "bgcolor": "#E5ECF6",
           "caxis": {
            "gridcolor": "white",
            "linecolor": "white",
            "ticks": ""
           }
          },
          "title": {
           "x": 0.05
          },
          "xaxis": {
           "automargin": true,
           "gridcolor": "white",
           "linecolor": "white",
           "ticks": "",
           "title": {
            "standoff": 15
           },
           "zerolinecolor": "white",
           "zerolinewidth": 2
          },
          "yaxis": {
           "automargin": true,
           "gridcolor": "white",
           "linecolor": "white",
           "ticks": "",
           "title": {
            "standoff": 15
           },
           "zerolinecolor": "white",
           "zerolinewidth": 2
          }
         }
        }
       }
      },
      "text/html": [
       "<div>                            <div id=\"08cadd48-a9f4-4af9-aa60-5b11133b219b\" class=\"plotly-graph-div\" style=\"height:525px; width:100%;\"></div>            <script type=\"text/javascript\">                require([\"plotly\"], function(Plotly) {                    window.PLOTLYENV=window.PLOTLYENV || {};                                    if (document.getElementById(\"08cadd48-a9f4-4af9-aa60-5b11133b219b\")) {                    Plotly.newPlot(                        \"08cadd48-a9f4-4af9-aa60-5b11133b219b\",                        [{\"branchvalues\":\"total\",\"domain\":{\"x\":[0.0,1.0],\"y\":[0.0,1.0]},\"hovertemplate\":\"labels=%{label}<br>count=%{value}<br>parent=%{parent}<br>id=%{id}<extra></extra>\",\"ids\":[\"3E1E0D78/9D9EE/05A0\",\"EFEF723B/02FA0/078B\",\"57164AC1/7B638/0F8B\",\"90A8B052/08960/1000\",\"B092BA29/375FE/1F61\",\"4513C920/F4055/1F75\",\"4513C920/31FED/215F\",\"35E04739/B2DB4/21DA\",\"69286F45/2D5A3/28A7\",\"09BF5150/262E7/29B3\",\"2CEC27F1/BAE8A/2ABA\",\"3E1E0D78/E6162/2E14\",\"D410C91A/ACD06/33D1\",\"09BF5150/6C6B1/3AAD\",\"4513C920/31FED/3DD3\",\"57164AC1/94728/5912\",\"014303D1/77F62/5AE1\",\"EFEF723B/D5531/6253\",\"EFEF723B/CB803/627D\",\"4C3D8686/74974/62E8\",\"014303D1/7AED7/6539\",\"35E04739/390F1/6856\",\"09BF5150/5E038/6BE5\",\"09BF5150/F824F/7288\",\"4513C920/F4055/7C00\",\"AAC8EE56/9B69F/80C4\",\"57164AC1/0864A/96B8\",\"2CEC27F1/ADAD6/98CF\",\"90A8B052/C719A/A0E2\",\"09BF5150/AF6B9/A104\",\"09BF5150/915D4/A2FA\",\"B092BA29/5A8AB/AA6B\",\"35E04739/80D5B/B4A7\",\"96F95EEC/36080/C563\",\"96F95EEC/A04D3/C5B4\",\"57164AC1/94728/CF52\",\"09BF5150/C7E19/D06E\",\"AAC8EE56/914A1/D97D\",\"09BF5150/A6301/DC8D\",\"4513C920/E69F5/DDD5\",\"2CEC27F1/BAE8A/DE3D\",\"57164AC1/C66C5/E9F4\",\"4C3D8686/223B2/F213\",\"EFEF723B/02FA0\",\"57164AC1/0864A\",\"90A8B052/08960\",\"4C3D8686/223B2\",\"09BF5150/262E7\",\"69286F45/2D5A3\",\"4513C920/31FED\",\"96F95EEC/36080\",\"B092BA29/375FE\",\"35E04739/390F1\",\"B092BA29/5A8AB\",\"09BF5150/5E038\",\"09BF5150/6C6B1\",\"4C3D8686/74974\",\"014303D1/77F62\",\"014303D1/7AED7\",\"57164AC1/7B638\",\"35E04739/80D5B\",\"AAC8EE56/914A1\",\"09BF5150/915D4\",\"57164AC1/94728\",\"AAC8EE56/9B69F\",\"3E1E0D78/9D9EE\",\"96F95EEC/A04D3\",\"09BF5150/A6301\",\"D410C91A/ACD06\",\"2CEC27F1/ADAD6\",\"09BF5150/AF6B9\",\"35E04739/B2DB4\",\"2CEC27F1/BAE8A\",\"57164AC1/C66C5\",\"90A8B052/C719A\",\"09BF5150/C7E19\",\"EFEF723B/CB803\",\"EFEF723B/D5531\",\"3E1E0D78/E6162\",\"4513C920/E69F5\",\"4513C920/F4055\",\"09BF5150/F824F\",\"014303D1\",\"09BF5150\",\"2CEC27F1\",\"35E04739\",\"3E1E0D78\",\"4513C920\",\"4C3D8686\",\"57164AC1\",\"69286F45\",\"90A8B052\",\"96F95EEC\",\"AAC8EE56\",\"B092BA29\",\"D410C91A\",\"EFEF723B\"],\"labels\":[\"05A0\",\"078B\",\"0F8B\",\"1000\",\"1F61\",\"1F75\",\"215F\",\"21DA\",\"28A7\",\"29B3\",\"2ABA\",\"2E14\",\"33D1\",\"3AAD\",\"3DD3\",\"5912\",\"5AE1\",\"6253\",\"627D\",\"62E8\",\"6539\",\"6856\",\"6BE5\",\"7288\",\"7C00\",\"80C4\",\"96B8\",\"98CF\",\"A0E2\",\"A104\",\"A2FA\",\"AA6B\",\"B4A7\",\"C563\",\"C5B4\",\"CF52\",\"D06E\",\"D97D\",\"DC8D\",\"DDD5\",\"DE3D\",\"E9F4\",\"F213\",\"02FA0\",\"0864A\",\"08960\",\"223B2\",\"262E7\",\"2D5A3\",\"31FED\",\"36080\",\"375FE\",\"390F1\",\"5A8AB\",\"5E038\",\"6C6B1\",\"74974\",\"77F62\",\"7AED7\",\"7B638\",\"80D5B\",\"914A1\",\"915D4\",\"94728\",\"9B69F\",\"9D9EE\",\"A04D3\",\"A6301\",\"ACD06\",\"ADAD6\",\"AF6B9\",\"B2DB4\",\"BAE8A\",\"C66C5\",\"C719A\",\"C7E19\",\"CB803\",\"D5531\",\"E6162\",\"E69F5\",\"F4055\",\"F824F\",\"014303D1\",\"09BF5150\",\"2CEC27F1\",\"35E04739\",\"3E1E0D78\",\"4513C920\",\"4C3D8686\",\"57164AC1\",\"69286F45\",\"90A8B052\",\"96F95EEC\",\"AAC8EE56\",\"B092BA29\",\"D410C91A\",\"EFEF723B\"],\"name\":\"\",\"parents\":[\"3E1E0D78/9D9EE\",\"EFEF723B/02FA0\",\"57164AC1/7B638\",\"90A8B052/08960\",\"B092BA29/375FE\",\"4513C920/F4055\",\"4513C920/31FED\",\"35E04739/B2DB4\",\"69286F45/2D5A3\",\"09BF5150/262E7\",\"2CEC27F1/BAE8A\",\"3E1E0D78/E6162\",\"D410C91A/ACD06\",\"09BF5150/6C6B1\",\"4513C920/31FED\",\"57164AC1/94728\",\"014303D1/77F62\",\"EFEF723B/D5531\",\"EFEF723B/CB803\",\"4C3D8686/74974\",\"014303D1/7AED7\",\"35E04739/390F1\",\"09BF5150/5E038\",\"09BF5150/F824F\",\"4513C920/F4055\",\"AAC8EE56/9B69F\",\"57164AC1/0864A\",\"2CEC27F1/ADAD6\",\"90A8B052/C719A\",\"09BF5150/AF6B9\",\"09BF5150/915D4\",\"B092BA29/5A8AB\",\"35E04739/80D5B\",\"96F95EEC/36080\",\"96F95EEC/A04D3\",\"57164AC1/94728\",\"09BF5150/C7E19\",\"AAC8EE56/914A1\",\"09BF5150/A6301\",\"4513C920/E69F5\",\"2CEC27F1/BAE8A\",\"57164AC1/C66C5\",\"4C3D8686/223B2\",\"EFEF723B\",\"57164AC1\",\"90A8B052\",\"4C3D8686\",\"09BF5150\",\"69286F45\",\"4513C920\",\"96F95EEC\",\"B092BA29\",\"35E04739\",\"B092BA29\",\"09BF5150\",\"09BF5150\",\"4C3D8686\",\"014303D1\",\"014303D1\",\"57164AC1\",\"35E04739\",\"AAC8EE56\",\"09BF5150\",\"57164AC1\",\"AAC8EE56\",\"3E1E0D78\",\"96F95EEC\",\"09BF5150\",\"D410C91A\",\"2CEC27F1\",\"09BF5150\",\"35E04739\",\"2CEC27F1\",\"57164AC1\",\"90A8B052\",\"09BF5150\",\"EFEF723B\",\"EFEF723B\",\"3E1E0D78\",\"4513C920\",\"4513C920\",\"09BF5150\",\"\",\"\",\"\",\"\",\"\",\"\",\"\",\"\",\"\",\"\",\"\",\"\",\"\",\"\",\"\"],\"values\":[462,264,420,24,450,199,33,449,797,65,448,117,504,38,53,439,229,88,448,447,282,441,118,74,164,447,16,410,482,38,47,450,6,176,411,1,429,443,1,109,1,1,128,264,16,24,128,65,797,86,176,450,441,450,118,38,447,229,282,420,6,443,47,440,447,462,411,1,504,410,38,449,449,1,482,429,448,88,117,109,363,74,511,810,859,896,579,558,575,877,797,506,587,890,900,504,800],\"type\":\"treemap\"}],                        {\"template\":{\"data\":{\"bar\":[{\"error_x\":{\"color\":\"#2a3f5f\"},\"error_y\":{\"color\":\"#2a3f5f\"},\"marker\":{\"line\":{\"color\":\"#E5ECF6\",\"width\":0.5},\"pattern\":{\"fillmode\":\"overlay\",\"size\":10,\"solidity\":0.2}},\"type\":\"bar\"}],\"barpolar\":[{\"marker\":{\"line\":{\"color\":\"#E5ECF6\",\"width\":0.5},\"pattern\":{\"fillmode\":\"overlay\",\"size\":10,\"solidity\":0.2}},\"type\":\"barpolar\"}],\"carpet\":[{\"aaxis\":{\"endlinecolor\":\"#2a3f5f\",\"gridcolor\":\"white\",\"linecolor\":\"white\",\"minorgridcolor\":\"white\",\"startlinecolor\":\"#2a3f5f\"},\"baxis\":{\"endlinecolor\":\"#2a3f5f\",\"gridcolor\":\"white\",\"linecolor\":\"white\",\"minorgridcolor\":\"white\",\"startlinecolor\":\"#2a3f5f\"},\"type\":\"carpet\"}],\"choropleth\":[{\"colorbar\":{\"outlinewidth\":0,\"ticks\":\"\"},\"type\":\"choropleth\"}],\"contour\":[{\"colorbar\":{\"outlinewidth\":0,\"ticks\":\"\"},\"colorscale\":[[0.0,\"#0d0887\"],[0.1111111111111111,\"#46039f\"],[0.2222222222222222,\"#7201a8\"],[0.3333333333333333,\"#9c179e\"],[0.4444444444444444,\"#bd3786\"],[0.5555555555555556,\"#d8576b\"],[0.6666666666666666,\"#ed7953\"],[0.7777777777777778,\"#fb9f3a\"],[0.8888888888888888,\"#fdca26\"],[1.0,\"#f0f921\"]],\"type\":\"contour\"}],\"contourcarpet\":[{\"colorbar\":{\"outlinewidth\":0,\"ticks\":\"\"},\"type\":\"contourcarpet\"}],\"heatmap\":[{\"colorbar\":{\"outlinewidth\":0,\"ticks\":\"\"},\"colorscale\":[[0.0,\"#0d0887\"],[0.1111111111111111,\"#46039f\"],[0.2222222222222222,\"#7201a8\"],[0.3333333333333333,\"#9c179e\"],[0.4444444444444444,\"#bd3786\"],[0.5555555555555556,\"#d8576b\"],[0.6666666666666666,\"#ed7953\"],[0.7777777777777778,\"#fb9f3a\"],[0.8888888888888888,\"#fdca26\"],[1.0,\"#f0f921\"]],\"type\":\"heatmap\"}],\"heatmapgl\":[{\"colorbar\":{\"outlinewidth\":0,\"ticks\":\"\"},\"colorscale\":[[0.0,\"#0d0887\"],[0.1111111111111111,\"#46039f\"],[0.2222222222222222,\"#7201a8\"],[0.3333333333333333,\"#9c179e\"],[0.4444444444444444,\"#bd3786\"],[0.5555555555555556,\"#d8576b\"],[0.6666666666666666,\"#ed7953\"],[0.7777777777777778,\"#fb9f3a\"],[0.8888888888888888,\"#fdca26\"],[1.0,\"#f0f921\"]],\"type\":\"heatmapgl\"}],\"histogram\":[{\"marker\":{\"pattern\":{\"fillmode\":\"overlay\",\"size\":10,\"solidity\":0.2}},\"type\":\"histogram\"}],\"histogram2d\":[{\"colorbar\":{\"outlinewidth\":0,\"ticks\":\"\"},\"colorscale\":[[0.0,\"#0d0887\"],[0.1111111111111111,\"#46039f\"],[0.2222222222222222,\"#7201a8\"],[0.3333333333333333,\"#9c179e\"],[0.4444444444444444,\"#bd3786\"],[0.5555555555555556,\"#d8576b\"],[0.6666666666666666,\"#ed7953\"],[0.7777777777777778,\"#fb9f3a\"],[0.8888888888888888,\"#fdca26\"],[1.0,\"#f0f921\"]],\"type\":\"histogram2d\"}],\"histogram2dcontour\":[{\"colorbar\":{\"outlinewidth\":0,\"ticks\":\"\"},\"colorscale\":[[0.0,\"#0d0887\"],[0.1111111111111111,\"#46039f\"],[0.2222222222222222,\"#7201a8\"],[0.3333333333333333,\"#9c179e\"],[0.4444444444444444,\"#bd3786\"],[0.5555555555555556,\"#d8576b\"],[0.6666666666666666,\"#ed7953\"],[0.7777777777777778,\"#fb9f3a\"],[0.8888888888888888,\"#fdca26\"],[1.0,\"#f0f921\"]],\"type\":\"histogram2dcontour\"}],\"mesh3d\":[{\"colorbar\":{\"outlinewidth\":0,\"ticks\":\"\"},\"type\":\"mesh3d\"}],\"parcoords\":[{\"line\":{\"colorbar\":{\"outlinewidth\":0,\"ticks\":\"\"}},\"type\":\"parcoords\"}],\"pie\":[{\"automargin\":true,\"type\":\"pie\"}],\"scatter\":[{\"marker\":{\"colorbar\":{\"outlinewidth\":0,\"ticks\":\"\"}},\"type\":\"scatter\"}],\"scatter3d\":[{\"line\":{\"colorbar\":{\"outlinewidth\":0,\"ticks\":\"\"}},\"marker\":{\"colorbar\":{\"outlinewidth\":0,\"ticks\":\"\"}},\"type\":\"scatter3d\"}],\"scattercarpet\":[{\"marker\":{\"colorbar\":{\"outlinewidth\":0,\"ticks\":\"\"}},\"type\":\"scattercarpet\"}],\"scattergeo\":[{\"marker\":{\"colorbar\":{\"outlinewidth\":0,\"ticks\":\"\"}},\"type\":\"scattergeo\"}],\"scattergl\":[{\"marker\":{\"colorbar\":{\"outlinewidth\":0,\"ticks\":\"\"}},\"type\":\"scattergl\"}],\"scattermapbox\":[{\"marker\":{\"colorbar\":{\"outlinewidth\":0,\"ticks\":\"\"}},\"type\":\"scattermapbox\"}],\"scatterpolar\":[{\"marker\":{\"colorbar\":{\"outlinewidth\":0,\"ticks\":\"\"}},\"type\":\"scatterpolar\"}],\"scatterpolargl\":[{\"marker\":{\"colorbar\":{\"outlinewidth\":0,\"ticks\":\"\"}},\"type\":\"scatterpolargl\"}],\"scatterternary\":[{\"marker\":{\"colorbar\":{\"outlinewidth\":0,\"ticks\":\"\"}},\"type\":\"scatterternary\"}],\"surface\":[{\"colorbar\":{\"outlinewidth\":0,\"ticks\":\"\"},\"colorscale\":[[0.0,\"#0d0887\"],[0.1111111111111111,\"#46039f\"],[0.2222222222222222,\"#7201a8\"],[0.3333333333333333,\"#9c179e\"],[0.4444444444444444,\"#bd3786\"],[0.5555555555555556,\"#d8576b\"],[0.6666666666666666,\"#ed7953\"],[0.7777777777777778,\"#fb9f3a\"],[0.8888888888888888,\"#fdca26\"],[1.0,\"#f0f921\"]],\"type\":\"surface\"}],\"table\":[{\"cells\":{\"fill\":{\"color\":\"#EBF0F8\"},\"line\":{\"color\":\"white\"}},\"header\":{\"fill\":{\"color\":\"#C8D4E3\"},\"line\":{\"color\":\"white\"}},\"type\":\"table\"}]},\"layout\":{\"annotationdefaults\":{\"arrowcolor\":\"#2a3f5f\",\"arrowhead\":0,\"arrowwidth\":1},\"autotypenumbers\":\"strict\",\"coloraxis\":{\"colorbar\":{\"outlinewidth\":0,\"ticks\":\"\"}},\"colorscale\":{\"diverging\":[[0,\"#8e0152\"],[0.1,\"#c51b7d\"],[0.2,\"#de77ae\"],[0.3,\"#f1b6da\"],[0.4,\"#fde0ef\"],[0.5,\"#f7f7f7\"],[0.6,\"#e6f5d0\"],[0.7,\"#b8e186\"],[0.8,\"#7fbc41\"],[0.9,\"#4d9221\"],[1,\"#276419\"]],\"sequential\":[[0.0,\"#0d0887\"],[0.1111111111111111,\"#46039f\"],[0.2222222222222222,\"#7201a8\"],[0.3333333333333333,\"#9c179e\"],[0.4444444444444444,\"#bd3786\"],[0.5555555555555556,\"#d8576b\"],[0.6666666666666666,\"#ed7953\"],[0.7777777777777778,\"#fb9f3a\"],[0.8888888888888888,\"#fdca26\"],[1.0,\"#f0f921\"]],\"sequentialminus\":[[0.0,\"#0d0887\"],[0.1111111111111111,\"#46039f\"],[0.2222222222222222,\"#7201a8\"],[0.3333333333333333,\"#9c179e\"],[0.4444444444444444,\"#bd3786\"],[0.5555555555555556,\"#d8576b\"],[0.6666666666666666,\"#ed7953\"],[0.7777777777777778,\"#fb9f3a\"],[0.8888888888888888,\"#fdca26\"],[1.0,\"#f0f921\"]]},\"colorway\":[\"#636efa\",\"#EF553B\",\"#00cc96\",\"#ab63fa\",\"#FFA15A\",\"#19d3f3\",\"#FF6692\",\"#B6E880\",\"#FF97FF\",\"#FECB52\"],\"font\":{\"color\":\"#2a3f5f\"},\"geo\":{\"bgcolor\":\"white\",\"lakecolor\":\"white\",\"landcolor\":\"#E5ECF6\",\"showlakes\":true,\"showland\":true,\"subunitcolor\":\"white\"},\"hoverlabel\":{\"align\":\"left\"},\"hovermode\":\"closest\",\"mapbox\":{\"style\":\"light\"},\"paper_bgcolor\":\"white\",\"plot_bgcolor\":\"#E5ECF6\",\"polar\":{\"angularaxis\":{\"gridcolor\":\"white\",\"linecolor\":\"white\",\"ticks\":\"\"},\"bgcolor\":\"#E5ECF6\",\"radialaxis\":{\"gridcolor\":\"white\",\"linecolor\":\"white\",\"ticks\":\"\"}},\"scene\":{\"xaxis\":{\"backgroundcolor\":\"#E5ECF6\",\"gridcolor\":\"white\",\"gridwidth\":2,\"linecolor\":\"white\",\"showbackground\":true,\"ticks\":\"\",\"zerolinecolor\":\"white\"},\"yaxis\":{\"backgroundcolor\":\"#E5ECF6\",\"gridcolor\":\"white\",\"gridwidth\":2,\"linecolor\":\"white\",\"showbackground\":true,\"ticks\":\"\",\"zerolinecolor\":\"white\"},\"zaxis\":{\"backgroundcolor\":\"#E5ECF6\",\"gridcolor\":\"white\",\"gridwidth\":2,\"linecolor\":\"white\",\"showbackground\":true,\"ticks\":\"\",\"zerolinecolor\":\"white\"}},\"shapedefaults\":{\"line\":{\"color\":\"#2a3f5f\"}},\"ternary\":{\"aaxis\":{\"gridcolor\":\"white\",\"linecolor\":\"white\",\"ticks\":\"\"},\"baxis\":{\"gridcolor\":\"white\",\"linecolor\":\"white\",\"ticks\":\"\"},\"bgcolor\":\"#E5ECF6\",\"caxis\":{\"gridcolor\":\"white\",\"linecolor\":\"white\",\"ticks\":\"\"}},\"title\":{\"x\":0.05},\"xaxis\":{\"automargin\":true,\"gridcolor\":\"white\",\"linecolor\":\"white\",\"ticks\":\"\",\"title\":{\"standoff\":15},\"zerolinecolor\":\"white\",\"zerolinewidth\":2},\"yaxis\":{\"automargin\":true,\"gridcolor\":\"white\",\"linecolor\":\"white\",\"ticks\":\"\",\"title\":{\"standoff\":15},\"zerolinecolor\":\"white\",\"zerolinewidth\":2}}},\"legend\":{\"tracegroupgap\":0},\"margin\":{\"t\":25,\"l\":25,\"r\":25,\"b\":25}},                        {\"responsive\": true}                    ).then(function(){\n",
       "                            \n",
       "var gd = document.getElementById('08cadd48-a9f4-4af9-aa60-5b11133b219b');\n",
       "var x = new MutationObserver(function (mutations, observer) {{\n",
       "        var display = window.getComputedStyle(gd).display;\n",
       "        if (!display || display === 'none') {{\n",
       "            console.log([gd, 'removed!']);\n",
       "            Plotly.purge(gd);\n",
       "            observer.disconnect();\n",
       "        }}\n",
       "}});\n",
       "\n",
       "// Listen for the removal of the full notebook cells\n",
       "var notebookContainer = gd.closest('#notebook-container');\n",
       "if (notebookContainer) {{\n",
       "    x.observe(notebookContainer, {childList: true});\n",
       "}}\n",
       "\n",
       "// Listen for the clearing of the current output cell\n",
       "var outputEl = gd.closest('.output');\n",
       "if (outputEl) {{\n",
       "    x.observe(outputEl, {childList: true});\n",
       "}}\n",
       "\n",
       "                        })                };                });            </script>        </div>"
      ]
     },
     "metadata": {},
     "output_type": "display_data"
    }
   ],
   "source": [
    "# visualize the dataset hirachy\n",
    "fig = px.treemap(source_grouped_count.reset_index(), path=['Level_1', 'Level_2', 'Level_3'], values='count')\n",
    "fig.update_layout(margin = dict(t=25, l=25, r=25, b=25))\n",
    "fig.show()"
   ]
  },
  {
   "cell_type": "code",
   "execution_count": 117,
   "metadata": {},
   "outputs": [
    {
     "name": "stdout",
     "output_type": "stream",
     "text": [
      "--- Distinct Categories ---\n",
      "Level 1 : 15\n",
      "Level 2 : 39\n",
      "Level 3 : 43\n",
      "All     : 43\n"
     ]
    }
   ],
   "source": [
    "def print_categories(data:pd.DataFrame):\n",
    "    \"\"\"\n",
    "    Print a count of the distinct categories in the dataset.\n",
    "    \"\"\"\n",
    "    # determine the number of distinct\n",
    "    print('--- Distinct Categories ---')\n",
    "    print('Level 1 : %d' % data[['Level_1']].drop_duplicates().shape[0])\n",
    "    print('Level 2 : %d' % data[['Level_2']].drop_duplicates().shape[0])\n",
    "    print('Level 3 : %d' % data[['Level_3']].drop_duplicates().shape[0])\n",
    "    print('All     : %d' % data[['Level_1', 'Level_2', 'Level_3']].drop_duplicates().shape[0])\n",
    "\n",
    "# show the number of distinct categories in the dataset\n",
    "print_categories(df_source)"
   ]
  },
  {
   "cell_type": "markdown",
   "metadata": {},
   "source": [
    "## Deal with Missing Data (4 marks)"
   ]
  },
  {
   "cell_type": "code",
   "execution_count": 118,
   "metadata": {},
   "outputs": [
    {
     "data": {
      "text/plain": [
       "Description    12\n",
       "Level_1         0\n",
       "Level_2         0\n",
       "Level_3         0\n",
       "dtype: int64"
      ]
     },
     "execution_count": 118,
     "metadata": {},
     "output_type": "execute_result"
    }
   ],
   "source": [
    "# Check if data has missing values in the Description column\n",
    "df_source.isna().sum()"
   ]
  },
  {
   "cell_type": "code",
   "execution_count": 119,
   "metadata": {},
   "outputs": [
    {
     "data": {
      "text/html": [
       "<div>\n",
       "<style scoped>\n",
       "    .dataframe tbody tr th:only-of-type {\n",
       "        vertical-align: middle;\n",
       "    }\n",
       "\n",
       "    .dataframe tbody tr th {\n",
       "        vertical-align: top;\n",
       "    }\n",
       "\n",
       "    .dataframe thead th {\n",
       "        text-align: right;\n",
       "    }\n",
       "</style>\n",
       "<table border=\"1\" class=\"dataframe\">\n",
       "  <thead>\n",
       "    <tr style=\"text-align: right;\">\n",
       "      <th></th>\n",
       "      <th>Description</th>\n",
       "      <th>Level_1</th>\n",
       "      <th>Level_2</th>\n",
       "      <th>Level_3</th>\n",
       "    </tr>\n",
       "  </thead>\n",
       "  <tbody>\n",
       "    <tr>\n",
       "      <th>1063</th>\n",
       "      <td>NaN</td>\n",
       "      <td>4C3D8686</td>\n",
       "      <td>74974</td>\n",
       "      <td>62E8</td>\n",
       "    </tr>\n",
       "    <tr>\n",
       "      <th>3435</th>\n",
       "      <td>NaN</td>\n",
       "      <td>09BF5150</td>\n",
       "      <td>F824F</td>\n",
       "      <td>7288</td>\n",
       "    </tr>\n",
       "    <tr>\n",
       "      <th>3459</th>\n",
       "      <td>NaN</td>\n",
       "      <td>09BF5150</td>\n",
       "      <td>F824F</td>\n",
       "      <td>7288</td>\n",
       "    </tr>\n",
       "    <tr>\n",
       "      <th>7763</th>\n",
       "      <td>NaN</td>\n",
       "      <td>09BF5150</td>\n",
       "      <td>6C6B1</td>\n",
       "      <td>3AAD</td>\n",
       "    </tr>\n",
       "    <tr>\n",
       "      <th>7797</th>\n",
       "      <td>NaN</td>\n",
       "      <td>09BF5150</td>\n",
       "      <td>6C6B1</td>\n",
       "      <td>3AAD</td>\n",
       "    </tr>\n",
       "    <tr>\n",
       "      <th>7805</th>\n",
       "      <td>NaN</td>\n",
       "      <td>09BF5150</td>\n",
       "      <td>5E038</td>\n",
       "      <td>6BE5</td>\n",
       "    </tr>\n",
       "    <tr>\n",
       "      <th>7817</th>\n",
       "      <td>NaN</td>\n",
       "      <td>09BF5150</td>\n",
       "      <td>5E038</td>\n",
       "      <td>6BE5</td>\n",
       "    </tr>\n",
       "    <tr>\n",
       "      <th>7868</th>\n",
       "      <td>NaN</td>\n",
       "      <td>09BF5150</td>\n",
       "      <td>5E038</td>\n",
       "      <td>6BE5</td>\n",
       "    </tr>\n",
       "    <tr>\n",
       "      <th>7945</th>\n",
       "      <td>NaN</td>\n",
       "      <td>09BF5150</td>\n",
       "      <td>262E7</td>\n",
       "      <td>29B3</td>\n",
       "    </tr>\n",
       "    <tr>\n",
       "      <th>7971</th>\n",
       "      <td>NaN</td>\n",
       "      <td>09BF5150</td>\n",
       "      <td>262E7</td>\n",
       "      <td>29B3</td>\n",
       "    </tr>\n",
       "    <tr>\n",
       "      <th>7997</th>\n",
       "      <td>NaN</td>\n",
       "      <td>09BF5150</td>\n",
       "      <td>AF6B9</td>\n",
       "      <td>A104</td>\n",
       "    </tr>\n",
       "    <tr>\n",
       "      <th>8013</th>\n",
       "      <td>NaN</td>\n",
       "      <td>09BF5150</td>\n",
       "      <td>AF6B9</td>\n",
       "      <td>A104</td>\n",
       "    </tr>\n",
       "  </tbody>\n",
       "</table>\n",
       "</div>"
      ],
      "text/plain": [
       "     Description   Level_1 Level_2 Level_3\n",
       "1063         NaN  4C3D8686   74974    62E8\n",
       "3435         NaN  09BF5150   F824F    7288\n",
       "3459         NaN  09BF5150   F824F    7288\n",
       "7763         NaN  09BF5150   6C6B1    3AAD\n",
       "7797         NaN  09BF5150   6C6B1    3AAD\n",
       "7805         NaN  09BF5150   5E038    6BE5\n",
       "7817         NaN  09BF5150   5E038    6BE5\n",
       "7868         NaN  09BF5150   5E038    6BE5\n",
       "7945         NaN  09BF5150   262E7    29B3\n",
       "7971         NaN  09BF5150   262E7    29B3\n",
       "7997         NaN  09BF5150   AF6B9    A104\n",
       "8013         NaN  09BF5150   AF6B9    A104"
      ]
     },
     "execution_count": 119,
     "metadata": {},
     "output_type": "execute_result"
    }
   ],
   "source": [
    "# show the rows with missing values\n",
    "df_source.iloc[df_source.index[df_source.isnull().any(axis=1)]]"
   ]
  },
  {
   "cell_type": "code",
   "execution_count": 120,
   "metadata": {},
   "outputs": [
    {
     "data": {
      "text/plain": [
       "(10637, 4)"
      ]
     },
     "execution_count": 120,
     "metadata": {},
     "output_type": "execute_result"
    }
   ],
   "source": [
    "# Deal with missing values\n",
    "df_clean = df_source.dropna()\n",
    "df_clean.shape"
   ]
  },
  {
   "cell_type": "code",
   "execution_count": 121,
   "metadata": {},
   "outputs": [
    {
     "name": "stdout",
     "output_type": "stream",
     "text": [
      "--- Distinct Categories ---\n",
      "Level 1 : 15\n",
      "Level 2 : 39\n",
      "Level 3 : 43\n",
      "All     : 43\n"
     ]
    }
   ],
   "source": [
    "# show the number of caterories remaining after dropping null values\n",
    "print_categories(df_clean)"
   ]
  },
  {
   "cell_type": "markdown",
   "metadata": {},
   "source": [
    "## Drop Classes where the number of instances is < 10 (4 marks)"
   ]
  },
  {
   "cell_type": "code",
   "execution_count": 122,
   "metadata": {},
   "outputs": [],
   "source": [
    "def remove_small_categories(data:pd.DataFrame, column:str, n:int):\n",
    "    \"\"\"\n",
    "    This function find instances in the dataset provided and find instances in the specified column that has less than n rows.\n",
    "\n",
    "    Returns:\n",
    "        The original dataset with categories that have less than n rows have been removed.\n",
    "    \"\"\"\n",
    "    df_counts = data[column].value_counts().to_frame('counts')\n",
    "    remove_list = set(df_counts[df_counts.counts < n].index.values)\n",
    "    \n",
    "    return data.query('%s not in @remove_list' % column)"
   ]
  },
  {
   "cell_type": "code",
   "execution_count": 123,
   "metadata": {},
   "outputs": [
    {
     "data": {
      "text/plain": [
       "(10637, 4)"
      ]
     },
     "execution_count": 123,
     "metadata": {},
     "output_type": "execute_result"
    }
   ],
   "source": [
    "# Apply to Level_1 \n",
    "df_clean = remove_small_categories(df_clean, 'Level_1', 10)\n",
    "df_clean.shape"
   ]
  },
  {
   "cell_type": "code",
   "execution_count": 124,
   "metadata": {},
   "outputs": [
    {
     "data": {
      "text/plain": [
       "(10629, 4)"
      ]
     },
     "execution_count": 124,
     "metadata": {},
     "output_type": "execute_result"
    }
   ],
   "source": [
    "# Apply to Level_2\n",
    "df_clean = remove_small_categories(df_clean, 'Level_2', 10)\n",
    "df_clean.shape"
   ]
  },
  {
   "cell_type": "code",
   "execution_count": 125,
   "metadata": {},
   "outputs": [
    {
     "data": {
      "text/plain": [
       "(10627, 4)"
      ]
     },
     "execution_count": 125,
     "metadata": {},
     "output_type": "execute_result"
    }
   ],
   "source": [
    "# Apply to Level_3\n",
    "df_clean = remove_small_categories(df_clean, 'Level_3', 10)\n",
    "df_clean.shape"
   ]
  },
  {
   "cell_type": "code",
   "execution_count": 126,
   "metadata": {},
   "outputs": [
    {
     "name": "stdout",
     "output_type": "stream",
     "text": [
      "<class 'pandas.core.frame.DataFrame'>\n",
      "Int64Index: 10627 entries, 0 to 10648\n",
      "Data columns (total 4 columns):\n",
      " #   Column       Non-Null Count  Dtype   \n",
      "---  ------       --------------  -----   \n",
      " 0   Description  10627 non-null  object  \n",
      " 1   Level_1      10627 non-null  category\n",
      " 2   Level_2      10627 non-null  category\n",
      " 3   Level_3      10627 non-null  category\n",
      "dtypes: category(3), object(1)\n",
      "memory usage: 200.5+ KB\n"
     ]
    }
   ],
   "source": [
    "# convert the levels to categories\n",
    "level_cols = ['Level_1', 'Level_2', 'Level_3']\n",
    "df_clean[level_cols] = df_clean[level_cols].astype('category')\n",
    "df_clean.info()"
   ]
  },
  {
   "cell_type": "code",
   "execution_count": 127,
   "metadata": {},
   "outputs": [
    {
     "data": {
      "text/html": [
       "<div>\n",
       "<style scoped>\n",
       "    .dataframe tbody tr th:only-of-type {\n",
       "        vertical-align: middle;\n",
       "    }\n",
       "\n",
       "    .dataframe tbody tr th {\n",
       "        vertical-align: top;\n",
       "    }\n",
       "\n",
       "    .dataframe thead th {\n",
       "        text-align: right;\n",
       "    }\n",
       "</style>\n",
       "<table border=\"1\" class=\"dataframe\">\n",
       "  <thead>\n",
       "    <tr style=\"text-align: right;\">\n",
       "      <th></th>\n",
       "      <th>Description</th>\n",
       "      <th>Level_1</th>\n",
       "      <th>Level_2</th>\n",
       "      <th>Level_3</th>\n",
       "    </tr>\n",
       "  </thead>\n",
       "  <tbody>\n",
       "    <tr>\n",
       "      <th>0</th>\n",
       "      <td>gerb cap help keep littl on head cov warm day ...</td>\n",
       "      <td>09BF5150</td>\n",
       "      <td>C7E19</td>\n",
       "      <td>D06E</td>\n",
       "    </tr>\n",
       "    <tr>\n",
       "      <th>1</th>\n",
       "      <td>newborn inf toddl boy hoody jacket oshkosh b g...</td>\n",
       "      <td>2CEC27F1</td>\n",
       "      <td>ADAD6</td>\n",
       "      <td>98CF</td>\n",
       "    </tr>\n",
       "    <tr>\n",
       "      <th>2</th>\n",
       "      <td>tut ballet anym leap foxy fash ruffl tul toddl...</td>\n",
       "      <td>09BF5150</td>\n",
       "      <td>C7E19</td>\n",
       "      <td>D06E</td>\n",
       "    </tr>\n",
       "    <tr>\n",
       "      <th>3</th>\n",
       "      <td>newborn inf toddl boy hoody jacket oshkosh b g...</td>\n",
       "      <td>2CEC27F1</td>\n",
       "      <td>ADAD6</td>\n",
       "      <td>98CF</td>\n",
       "    </tr>\n",
       "    <tr>\n",
       "      <th>4</th>\n",
       "      <td>easy keep feel warm cozy inf toddl girl hoody ...</td>\n",
       "      <td>2CEC27F1</td>\n",
       "      <td>ADAD6</td>\n",
       "      <td>98CF</td>\n",
       "    </tr>\n",
       "  </tbody>\n",
       "</table>\n",
       "</div>"
      ],
      "text/plain": [
       "                                         Description   Level_1 Level_2 Level_3\n",
       "0  gerb cap help keep littl on head cov warm day ...  09BF5150   C7E19    D06E\n",
       "1  newborn inf toddl boy hoody jacket oshkosh b g...  2CEC27F1   ADAD6    98CF\n",
       "2  tut ballet anym leap foxy fash ruffl tul toddl...  09BF5150   C7E19    D06E\n",
       "3  newborn inf toddl boy hoody jacket oshkosh b g...  2CEC27F1   ADAD6    98CF\n",
       "4  easy keep feel warm cozy inf toddl girl hoody ...  2CEC27F1   ADAD6    98CF"
      ]
     },
     "execution_count": 127,
     "metadata": {},
     "output_type": "execute_result"
    }
   ],
   "source": [
    "# reset the index\n",
    "df_clean.reset_index(inplace=True, drop=True)\n",
    "df_clean.head()"
   ]
  },
  {
   "cell_type": "code",
   "execution_count": 128,
   "metadata": {},
   "outputs": [
    {
     "data": {
      "text/plain": [
       "<AxesSubplot:>"
      ]
     },
     "execution_count": 128,
     "metadata": {},
     "output_type": "execute_result"
    },
    {
     "data": {
      "image/png": "[encoded data removed]",
      "text/plain": [
       "<Figure size 576x396 with 1 Axes>"
      ]
     },
     "metadata": {},
     "output_type": "display_data"
    }
   ],
   "source": [
    "# level 1 distribution\n",
    "df_clean.Level_1.value_counts().plot(kind='bar')"
   ]
  },
  {
   "cell_type": "code",
   "execution_count": 129,
   "metadata": {},
   "outputs": [
    {
     "data": {
      "text/plain": [
       "2D5A3    797\n",
       "ACD06    504\n",
       "C719A    482\n",
       "9D9EE    462\n",
       "375FE    450\n",
       "5A8AB    450\n",
       "B2DB4    449\n",
       "CB803    448\n",
       "BAE8A    448\n",
       "9B69F    447\n",
       "74974    446\n",
       "914A1    443\n",
       "390F1    441\n",
       "94728    439\n",
       "C7E19    429\n",
       "7B638    420\n",
       "A04D3    411\n",
       "ADAD6    410\n",
       "F4055    363\n",
       "7AED7    282\n",
       "02FA0    264\n",
       "77F62    229\n",
       "36080    176\n",
       "223B2    128\n",
       "E6162    117\n",
       "5E038    115\n",
       "E69F5    109\n",
       "D5531     88\n",
       "31FED     86\n",
       "F824F     72\n",
       "262E7     63\n",
       "915D4     47\n",
       "AF6B9     36\n",
       "6C6B1     36\n",
       "08960     24\n",
       "0864A     16\n",
       "Name: Level_2, dtype: int64"
      ]
     },
     "execution_count": 129,
     "metadata": {},
     "output_type": "execute_result"
    }
   ],
   "source": [
    "# level 2 distribution\n",
    "df_clean.Level_2.value_counts()"
   ]
  },
  {
   "cell_type": "code",
   "execution_count": 130,
   "metadata": {},
   "outputs": [
    {
     "data": {
      "text/plain": [
       "28A7    797\n",
       "33D1    504\n",
       "A0E2    482\n",
       "05A0    462\n",
       "AA6B    450\n",
       "1F61    450\n",
       "21DA    449\n",
       "2ABA    448\n",
       "627D    448\n",
       "80C4    447\n",
       "62E8    446\n",
       "D97D    443\n",
       "6856    441\n",
       "5912    439\n",
       "D06E    429\n",
       "0F8B    420\n",
       "C5B4    411\n",
       "98CF    410\n",
       "6539    282\n",
       "078B    264\n",
       "5AE1    229\n",
       "1F75    199\n",
       "C563    176\n",
       "7C00    164\n",
       "F213    128\n",
       "2E14    117\n",
       "6BE5    115\n",
       "DDD5    109\n",
       "6253     88\n",
       "7288     72\n",
       "29B3     63\n",
       "3DD3     53\n",
       "A2FA     47\n",
       "A104     36\n",
       "3AAD     36\n",
       "215F     33\n",
       "1000     24\n",
       "96B8     16\n",
       "Name: Level_3, dtype: int64"
      ]
     },
     "execution_count": 130,
     "metadata": {},
     "output_type": "execute_result"
    }
   ],
   "source": [
    "# level 3 distribution\n",
    "df_clean.Level_3.value_counts()"
   ]
  },
  {
   "cell_type": "markdown",
   "metadata": {},
   "source": [
    "### Now let's write a Function to Prepare Text (4 marks)\n",
    "We will apply it to our DataFrame later on\n",
    "\n",
    "* This function receives a text string and performs the following:\n",
    "* Convert text to lower case\n",
    "* Remove punctuation marks\n",
    "* Apply stemming using the popular Snowball or Porter Stemmer (optional)\n",
    "* Apply NGram Tokenisation\n",
    "* Return the tokenised text as a list of strings"
   ]
  },
  {
   "cell_type": "code",
   "execution_count": 131,
   "metadata": {},
   "outputs": [
    {
     "name": "stderr",
     "output_type": "stream",
     "text": [
      "[nltk_data] Downloading package punkt to /home/vscode/nltk_data...\n",
      "[nltk_data]   Package punkt is already up-to-date!\n"
     ]
    },
    {
     "data": {
      "text/plain": [
       "True"
      ]
     },
     "execution_count": 131,
     "metadata": {},
     "output_type": "execute_result"
    }
   ],
   "source": [
    "import nltk\n",
    "nltk.download('punkt')"
   ]
  },
  {
   "cell_type": "code",
   "execution_count": 132,
   "metadata": {},
   "outputs": [],
   "source": [
    "from nltk.stem.snowball import SnowballStemmer\n",
    "from nltk.stem import PorterStemmer\n",
    "from nltk.tokenize import word_tokenize\n",
    "from nltk.util import ngrams\n",
    "import string\n",
    "import re\n",
    "\n",
    "def process_text(text, n = 1):\n",
    "    \"\"\"\n",
    "    Takes in a string of text, then performs the following:\n",
    "    1. Convert text to lower case and remove all punctuation\n",
    "    2. Optionally apply stemming\n",
    "    3. Apply Ngram Tokenisation\n",
    "    4. Returns the tokenised text as a list\n",
    "    \"\"\"\n",
    "    # convert to lower case & \n",
    "    text = text.lower()\n",
    "\n",
    "    # remove punctuation\n",
    "    #text = re.sub(\"[^0-9A-Za-z ]\", \"\" , text)\n",
    "    text = re.sub(\"[^A-Za-z ]\", \"\" , text)\n",
    "\n",
    "    # split the text into tokens\n",
    "    tokens = word_tokenize(text)\n",
    "\n",
    "    # perform stemming\n",
    "    ps = PorterStemmer()\n",
    "    tokens = [ps.stem(token)  for token in tokens]\n",
    "\n",
    "    #return ' '.join(tokens)\n",
    "\n",
    "    # get the ngrams\n",
    "    n_grams  = ngrams(tokens, n)\n",
    "\n",
    "    # return the ngrams as a list of strings\n",
    "    return [ ' '.join(grams) for grams in n_grams]\n",
    "    #return list(n_grams)"
   ]
  },
  {
   "cell_type": "code",
   "execution_count": 133,
   "metadata": {},
   "outputs": [
    {
     "data": {
      "text/plain": [
       "['here were test',\n",
       " 'were test the',\n",
       " 'test the processtext',\n",
       " 'the processtext function',\n",
       " 'processtext function result',\n",
       " 'function result are',\n",
       " 'result are as',\n",
       " 'are as follow']"
      ]
     },
     "execution_count": 133,
     "metadata": {},
     "output_type": "execute_result"
    }
   ],
   "source": [
    "# Here is an example function call\n",
    "process_text(\"Here we're testing the process_text function, results are as follows:\", n = 3)"
   ]
  },
  {
   "cell_type": "code",
   "execution_count": 134,
   "metadata": {},
   "outputs": [
    {
     "data": {
      "text/plain": [
       "['here were test',\n",
       " 'were test the',\n",
       " 'test the processtext',\n",
       " 'the processtext function',\n",
       " 'processtext function result',\n",
       " 'function result are',\n",
       " 'result are as',\n",
       " 'are as follow']"
      ]
     },
     "execution_count": 134,
     "metadata": {},
     "output_type": "execute_result"
    }
   ],
   "source": [
    "# Results should look like this:\n",
    "['here were test',\n",
    " 'were test the',\n",
    " 'test the processtext',\n",
    " 'the processtext function',\n",
    " 'processtext function result',\n",
    " 'function result are',\n",
    " 'result are as',\n",
    " 'are as follow']"
   ]
  },
  {
   "cell_type": "markdown",
   "metadata": {},
   "source": [
    "### Now let's apply TF-IDF to extract features from plain text (10 marks)"
   ]
  },
  {
   "cell_type": "code",
   "execution_count": 135,
   "metadata": {},
   "outputs": [],
   "source": [
    "# Might take a while...\n",
    "# Here you apply the process_text function to the Description column of the data\n",
    "# Then you pass the results to the bag of words tranformer\n",
    "# See here: https://scikit-learn.org/stable/modules/generated/sklearn.feature_extraction.text.CountVectorizer.html"
   ]
  },
  {
   "cell_type": "code",
   "execution_count": 136,
   "metadata": {},
   "outputs": [],
   "source": [
    "from sklearn.feature_extraction.text import CountVectorizer, TfidfTransformer\n",
    "from sklearn.decomposition import TruncatedSVD"
   ]
  },
  {
   "cell_type": "code",
   "execution_count": 137,
   "metadata": {},
   "outputs": [
    {
     "name": "stdout",
     "output_type": "stream",
     "text": [
      "['appli the processtext', 'are as follow', 'column of the', 'descript column of', 'function result are', 'function to the', 'here were test', 'here you appli', 'of the data', 'processtext function result', 'processtext function to', 'result are as', 'test the processtext', 'the descript column', 'the processtext function', 'to the descript', 'were test the', 'you appli the']\n",
      "[[0 1 0 0 1 0 1 0 0 1 0 1 1 0 1 0 1 0]\n",
      " [1 0 1 1 0 1 0 1 1 0 1 0 0 1 1 1 0 1]]\n"
     ]
    }
   ],
   "source": [
    "def bow_transform(corpus, n=3, max_features=None):\n",
    "    \"\"\"\n",
    "    Perform the bag-of-words transformation on the document corpus. The number of ngrams to use as tokens is specified using the n argument.\n",
    "    \"\"\"\n",
    "    count_vectorizer = CountVectorizer(analyzer=lambda x:process_text(x, n), max_features=max_features)\n",
    "    bow = count_vectorizer.fit_transform(corpus)\n",
    "\n",
    "    return count_vectorizer, bow\n",
    "\n",
    "# test the functon\n",
    "test_docs = [\n",
    "    \"Here we're testing the process_text function, results are as follows:\",\n",
    "    \"Here you apply the process_text function to the Description column of the data\"\n",
    "]\n",
    "\n",
    "count_vectorizer, bow = bow_transform(test_docs)\n",
    "print(count_vectorizer.get_feature_names())\n",
    "print(bow.toarray())"
   ]
  },
  {
   "cell_type": "markdown",
   "metadata": {},
   "source": [
    "During model evaluation it was found that using 3 ngrams is not ideal and better model performance is posible if ngrams are not created."
   ]
  },
  {
   "cell_type": "code",
   "execution_count": 138,
   "metadata": {},
   "outputs": [],
   "source": [
    "# vectorize the description column in the dataset\n",
    "count_vectorizer, bow = bow_transform(df_clean.Description, n=1)"
   ]
  },
  {
   "cell_type": "code",
   "execution_count": null,
   "metadata": {},
   "outputs": [],
   "source": [
    "#print(count_vectorizer.get_feature_names())\n",
    "print('Feature Count:', len(bow.toarray()[0]))"
   ]
  },
  {
   "cell_type": "markdown",
   "metadata": {},
   "source": [
    "Now we can use .transform on our Bag-of-Words (bow) transformed object and transform the entire DataFrame of text file contents. Let's go ahead and check out how the bag-of-words counts for the entire corpus in a large, sparse matrix:"
   ]
  },
  {
   "cell_type": "code",
   "execution_count": null,
   "metadata": {},
   "outputs": [],
   "source": [
    "# After that you pass the result of the previous step to sklearn's TfidfTransformer\n",
    "# which will convert them into a feature matrix\n",
    "# See here: https://scikit-learn.org/stable/modules/generated/sklearn.feature_extraction.text.TfidfTransformer.html\n",
    "    \n",
    "tfidf_transformer = TfidfTransformer()\n",
    "text_tfidf = tfidf_transformer.fit_transform(bow)\n",
    "print('Feature Count:', len(text_tfidf.toarray()[0]))"
   ]
  },
  {
   "cell_type": "code",
   "execution_count": null,
   "metadata": {},
   "outputs": [],
   "source": [
    "# perform dimensionality reduction\n",
    "dim_reduction = True\n",
    "n_components = 50 #500 #100 #50 #2000\n",
    "\n",
    "if dim_reduction:\n",
    "    svd = TruncatedSVD(n_components=n_components, random_state=42)\n",
    "    text_svd = svd.fit_transform(text_tfidf)\n",
    "\n",
    "    print('Total variance explained: %.2f' % svd.explained_variance_ratio_.sum())\n",
    "else:\n",
    "    text_svd = text_tfidf.toarray()"
   ]
  },
  {
   "cell_type": "code",
   "execution_count": null,
   "metadata": {},
   "outputs": [],
   "source": [
    "# The resulting matrix is in sparse format, we can transform it into dense\n",
    "# Code prepared for you so you can see what results look like\n",
    "#text_tfidf = pd.DataFrame(text_tfidf.toarray())\n",
    "text_tfidf = pd.DataFrame(text_svd)\n",
    "text_tfidf.shape"
   ]
  },
  {
   "cell_type": "code",
   "execution_count": null,
   "metadata": {},
   "outputs": [],
   "source": [
    "# This is an example result, the matrix will contain lots of zero values, that is expected\n",
    "# Some values will be non-zero\n",
    "text_tfidf.head()"
   ]
  },
  {
   "cell_type": "markdown",
   "metadata": {},
   "source": [
    "# Now the Data is Ready for Classifier Usage"
   ]
  },
  {
   "cell_type": "markdown",
   "metadata": {},
   "source": [
    "### Split Data into Train and Test sets (4 marks)"
   ]
  },
  {
   "cell_type": "code",
   "execution_count": null,
   "metadata": {},
   "outputs": [],
   "source": [
    "from sklearn.model_selection import train_test_split\n",
    "\n",
    "# get the dependent and indeendent variables\n",
    "y = df_clean.drop('Description', axis=1)\n",
    "X = text_tfidf\n",
    "\n",
    "# Train/Test split\n",
    "#X_train, X_test, y_train, y_test = train_test_split(X.index,y,test_size=0.3)\n",
    "X_train, X_test, y_train, y_test = train_test_split(X,y,test_size=0.3)\n",
    "\n",
    "print('Training Set : %d' % X_train.shape[0])\n",
    "print('Testing  Set : %d' % X_test.shape[0])"
   ]
  },
  {
   "cell_type": "code",
   "execution_count": null,
   "metadata": {},
   "outputs": [],
   "source": [
    "# You might need to reset index in each dataframe (depends on you how you do things)\n",
    "# done for you to make it clearer\n",
    "X_train.reset_index(inplace=True, drop=True)\n",
    "X_test.reset_index(inplace=True, drop=True)\n",
    "y_train.reset_index(inplace=True, drop=True)\n",
    "y_test.reset_index(inplace=True, drop=True)"
   ]
  },
  {
   "cell_type": "code",
   "execution_count": null,
   "metadata": {},
   "outputs": [],
   "source": [
    "# You might need to take classes as separate columns (depends on you how you do things)\n",
    "class1 = y_train['Level_1'].astype(str)\n",
    "class2 = y_train['Level_2'].astype(str)\n",
    "class3 = y_train['Level_3'].astype(str)"
   ]
  },
  {
   "cell_type": "markdown",
   "metadata": {},
   "source": [
    "## Model training for the three levels (8 marks)"
   ]
  },
  {
   "cell_type": "code",
   "execution_count": null,
   "metadata": {},
   "outputs": [],
   "source": [
    "from pycaret.classification import *"
   ]
  },
  {
   "cell_type": "code",
   "execution_count": null,
   "metadata": {},
   "outputs": [],
   "source": [
    "def create_model(data:pd.DataFrame, target:str, session_id:int=None, exclude=None):\n",
    "    '''\n",
    "    Create a classification model for the dataset provided.\n",
    "\n",
    "    Parameters:\n",
    "        data: pandas.DataFrame\n",
    "            The DataFrame to build the model for.\n",
    "        target: str\n",
    "            The name of the target variable.\n",
    "        exclude: list of str, default = None\n",
    "            To omit certain models from training and evaluation, pass a list containing model id in the exclude parameter. \n",
    "    Returns:\n",
    "    '''\n",
    "    # create the classifier for the model\n",
    "    logging.info('Setting up the classifier...')\n",
    "    classifier = setup(\n",
    "        data = data, \n",
    "        target = target, \n",
    "        session_id=session_id,\n",
    "        verbose=False,\n",
    "        silent=True) \n",
    "\n",
    "    # search for the best classifier\n",
    "    logging.info('Finding the best model...')\n",
    "    best = compare_models(\n",
    "        verbose=False,\n",
    "        exclude=exclude)\n",
    "\n",
    "    # tune the model\n",
    "    logging.info('Tuning the model...')\n",
    "    tuned_model = tune_model(best, verbose=False)\n",
    "\n",
    "    # finalize the model and return the results\n",
    "    #logging.info('Finalizing the model...')\n",
    "    #return finalize_model(tuned_model)\n",
    "    \n",
    "    return tuned_model\n",
    "\n",
    "\n",
    "#create_model(\n",
    "#    data=X_train.join(class1),\n",
    "#    target='Level_1',\n",
    "#    session_id=23)"
   ]
  },
  {
   "cell_type": "code",
   "execution_count": null,
   "metadata": {},
   "outputs": [],
   "source": [
    "## Create and save model for level 1\n",
    "train_l1 = X_train.join(class1)\n",
    "\n",
    "level1_model = create_model(\n",
    "    data=train_l1,\n",
    "    target='Level_1',\n",
    "    session_id=23,\n",
    "    exclude=['gbc', 'lightgbm'])  # gbc and lightgbm are excluded for debugging as they take sinificantly longer than other models to fit and only offer a fairly small increase in accuracy.\n",
    "\n",
    "# save the model\n",
    "save_model(level1_model, 'models/level_1')\n",
    "\n",
    "# dislay the model parameters\n",
    "print(level1_model)\n",
    "\n",
    "# display the model evalutation\n",
    "_ = predict_model(level1_model)"
   ]
  },
  {
   "cell_type": "code",
   "execution_count": null,
   "metadata": {},
   "outputs": [],
   "source": [
    "def get_level_values(data:pd.DataFrame, column:str):\n",
    "    '''\n",
    "    Get a list of distinct values in the specified column.\n",
    "    '''\n",
    "    return list(data[column].unique())\n",
    "\n",
    "get_level_values(y_train, 'Level_1')"
   ]
  },
  {
   "cell_type": "code",
   "execution_count": null,
   "metadata": {},
   "outputs": [],
   "source": [
    "def filter_level(data:pd.DataFrame, column:str, value:str):\n",
    "    '''\n",
    "    Filter the dataframe where the specified column matches the provided value.\n",
    "    '''\n",
    "    return data.query('%s == @value' % column)\n",
    "\n",
    "filter_level(y_train, 'Level_1', '014303D1')"
   ]
  },
  {
   "cell_type": "code",
   "execution_count": null,
   "metadata": {},
   "outputs": [],
   "source": [
    "def create_level_model(data:pd.DataFrame, features:pd.DataFrame, target:str, parent:str, parent_value:str, session_id:int=None, exclude=None):\n",
    "    '''\n",
    "    Create a classification model for the dataset provided.\n",
    "\n",
    "    Parameters:\n",
    "        data: pandas.DataFrame\n",
    "            The DataFrame to build the model for.\n",
    "        features: pandas.DataFrame\n",
    "            The dateframe contraing the features used for predicting the targer variable.\n",
    "        target: str\n",
    "            The name of the target variable.\n",
    "        parent:str\n",
    "            The parent column name to filter the data on.\n",
    "        parent_value:str \n",
    "            The value to filter the parent column on.                       \n",
    "        exclude: list of str, default = None\n",
    "            To omit certain models from training and evaluation, pass a list containing model id in the exclude parameter. \n",
    "    Returns:\n",
    "        The model created for the level.\n",
    "    '''\n",
    "    # get the training dataset\n",
    "    df_train = filter_level(data, parent, parent_value)    \n",
    "    df_train = df_train[[target]] # select only the target value\n",
    "    df_train = df_train.join(features, how='left') # join the features to the training set\n",
    "\n",
    "    return df_train\n",
    "\n",
    "create_level_model(\n",
    "    data=y_train, \n",
    "    features=X_train,\n",
    "    target='Level_2',\n",
    "    session_id=23,\n",
    "    exclude=['gbc', 'lightgbm'],\n",
    "    parent='Level_1',\n",
    "    parent_value='014303D1'\n",
    "    )"
   ]
  },
  {
   "cell_type": "code",
   "execution_count": null,
   "metadata": {},
   "outputs": [],
   "source": [
    "## Create and save models for level 2\n",
    "X_train[column].value_counts().to_frame('counts')"
   ]
  },
  {
   "cell_type": "code",
   "execution_count": null,
   "metadata": {},
   "outputs": [],
   "source": [
    "## Create and save models for level 3\n"
   ]
  },
  {
   "cell_type": "markdown",
   "metadata": {},
   "source": [
    "## Predict the test set (8 marks)"
   ]
  },
  {
   "cell_type": "code",
   "execution_count": null,
   "metadata": {},
   "outputs": [],
   "source": [
    "# Creating an empty Dataframe with column names only (depends on you how you do things)\n",
    "results = pd.DataFrame(columns=['Level1_Pred', 'Level2_Pred', 'Level3_Pred'])\n",
    "\n",
    "## Here we reload the saved models and use them to predict the levels\n",
    "# load model for level 1 (done for you)\n",
    "with open('level1.pk', 'rb') as nb:\n",
    "    model = pickle.load(nb)\n",
    "\n",
    "## loop through the test data, predict level 1, then based on that predict level 2\n",
    "## and based on level 2 predict level 3 (you need to load saved models accordingly)\n",
    "\n",
    "    "
   ]
  },
  {
   "cell_type": "code",
   "execution_count": null,
   "metadata": {},
   "outputs": [],
   "source": [
    "## After you add the predictions to the results dataframe\n",
    "## they should look like this\n",
    "results"
   ]
  },
  {
   "cell_type": "markdown",
   "metadata": {},
   "source": [
    "## Compute Accuracy on each level (4 marks)\n",
    "Now you have the predictions for each level (in the test data), and you also have the actual levels, you can compute the accurcay"
   ]
  },
  {
   "cell_type": "code",
   "execution_count": null,
   "metadata": {},
   "outputs": [],
   "source": [
    "# Level 1 accuracy\n"
   ]
  },
  {
   "cell_type": "code",
   "execution_count": null,
   "metadata": {},
   "outputs": [],
   "source": [
    "# Level 2 accuracy\n"
   ]
  },
  {
   "cell_type": "code",
   "execution_count": null,
   "metadata": {},
   "outputs": [],
   "source": [
    "# Level 3 accuracy\n"
   ]
  },
  {
   "cell_type": "markdown",
   "metadata": {},
   "source": [
    "## Well done!"
   ]
  }
 ],
 "metadata": {
  "kernelspec": {
   "display_name": "Python 3",
   "language": "python",
   "name": "python3"
  },
  "language_info": {
   "codemirror_mode": {
    "name": "ipython",
    "version": 3
   },
   "file_extension": ".py",
   "mimetype": "text/x-python",
   "name": "python",
   "nbconvert_exporter": "python",
   "pygments_lexer": "ipython3",
   "version": "3.8.12"
  }
 },
 "nbformat": 4,
 "nbformat_minor": 4
}
