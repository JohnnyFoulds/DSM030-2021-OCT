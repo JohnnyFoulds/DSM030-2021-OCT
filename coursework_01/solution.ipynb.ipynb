{
 "cells": [
  {
   "cell_type": "markdown",
   "metadata": {},
   "source": [
    "# Import Libraries"
   ]
  },
  {
   "cell_type": "code",
   "execution_count": 83,
   "metadata": {},
   "outputs": [],
   "source": [
    "import pandas as pd\n",
    "import plotly.express as px"
   ]
  },
  {
   "cell_type": "markdown",
   "metadata": {},
   "source": [
    "# Load and explore the data (4 marks)"
   ]
  },
  {
   "cell_type": "code",
   "execution_count": 84,
   "metadata": {},
   "outputs": [
    {
     "name": "stdout",
     "output_type": "stream",
     "text": [
      "<class 'pandas.core.frame.DataFrame'>\n",
      "RangeIndex: 10639 entries, 0 to 10638\n",
      "Data columns (total 4 columns):\n",
      " #   Column       Non-Null Count  Dtype \n",
      "---  ------       --------------  ----- \n",
      " 0   Description  10627 non-null  object\n",
      " 1   Level_1      10639 non-null  object\n",
      " 2   Level_2      10639 non-null  object\n",
      " 3   Level_3      10639 non-null  object\n",
      "dtypes: object(4)\n",
      "memory usage: 332.6+ KB\n"
     ]
    }
   ],
   "source": [
    "# load the dataset\n",
    "source_path = 'data/raw/product-cat-dataset.csv'\n",
    "#source_path = 'data/raw/product-category-dataset.csv'\n",
    "\n",
    "df_source = pd.read_csv(source_path)\n",
    "df_source.info()"
   ]
  },
  {
   "cell_type": "code",
   "execution_count": 85,
   "metadata": {},
   "outputs": [
    {
     "data": {
      "text/html": [
       "<div>\n",
       "<style scoped>\n",
       "    .dataframe tbody tr th:only-of-type {\n",
       "        vertical-align: middle;\n",
       "    }\n",
       "\n",
       "    .dataframe tbody tr th {\n",
       "        vertical-align: top;\n",
       "    }\n",
       "\n",
       "    .dataframe thead th {\n",
       "        text-align: right;\n",
       "    }\n",
       "</style>\n",
       "<table border=\"1\" class=\"dataframe\">\n",
       "  <thead>\n",
       "    <tr style=\"text-align: right;\">\n",
       "      <th></th>\n",
       "      <th>Description</th>\n",
       "      <th>Level_1</th>\n",
       "      <th>Level_2</th>\n",
       "      <th>Level_3</th>\n",
       "    </tr>\n",
       "  </thead>\n",
       "  <tbody>\n",
       "    <tr>\n",
       "      <th>0</th>\n",
       "      <td>gerb cap help keep littl on head cov warm day ...</td>\n",
       "      <td>09BF5150</td>\n",
       "      <td>C7E19</td>\n",
       "      <td>FDCF</td>\n",
       "    </tr>\n",
       "    <tr>\n",
       "      <th>1</th>\n",
       "      <td>newborn inf toddl boy hoody jacket oshkosh b g...</td>\n",
       "      <td>2CEC27F1</td>\n",
       "      <td>ADAD6</td>\n",
       "      <td>ED0D</td>\n",
       "    </tr>\n",
       "    <tr>\n",
       "      <th>2</th>\n",
       "      <td>tut ballet anym leap foxy fash ruffl tul toddl...</td>\n",
       "      <td>09BF5150</td>\n",
       "      <td>C7E19</td>\n",
       "      <td>D06E</td>\n",
       "    </tr>\n",
       "    <tr>\n",
       "      <th>3</th>\n",
       "      <td>newborn inf toddl boy hoody jacket oshkosh b g...</td>\n",
       "      <td>2CEC27F1</td>\n",
       "      <td>ADAD6</td>\n",
       "      <td>98CF</td>\n",
       "    </tr>\n",
       "    <tr>\n",
       "      <th>4</th>\n",
       "      <td>easy keep feel warm cozy inf toddl girl hoody ...</td>\n",
       "      <td>2CEC27F1</td>\n",
       "      <td>ADAD6</td>\n",
       "      <td>3918</td>\n",
       "    </tr>\n",
       "  </tbody>\n",
       "</table>\n",
       "</div>"
      ],
      "text/plain": [
       "                                         Description   Level_1 Level_2 Level_3\n",
       "0  gerb cap help keep littl on head cov warm day ...  09BF5150   C7E19    FDCF\n",
       "1  newborn inf toddl boy hoody jacket oshkosh b g...  2CEC27F1   ADAD6    ED0D\n",
       "2  tut ballet anym leap foxy fash ruffl tul toddl...  09BF5150   C7E19    D06E\n",
       "3  newborn inf toddl boy hoody jacket oshkosh b g...  2CEC27F1   ADAD6    98CF\n",
       "4  easy keep feel warm cozy inf toddl girl hoody ...  2CEC27F1   ADAD6    3918"
      ]
     },
     "execution_count": 85,
     "metadata": {},
     "output_type": "execute_result"
    }
   ],
   "source": [
    "df_source.head()"
   ]
  },
  {
   "cell_type": "markdown",
   "metadata": {},
   "source": [
    "## Explore Levels\n",
    "\n",
    "Get an overview of hirachy of levels used in the dataset."
   ]
  },
  {
   "cell_type": "code",
   "execution_count": 86,
   "metadata": {},
   "outputs": [
    {
     "data": {
      "text/html": [
       "<div>\n",
       "<style scoped>\n",
       "    .dataframe tbody tr th:only-of-type {\n",
       "        vertical-align: middle;\n",
       "    }\n",
       "\n",
       "    .dataframe tbody tr th {\n",
       "        vertical-align: top;\n",
       "    }\n",
       "\n",
       "    .dataframe thead th {\n",
       "        text-align: right;\n",
       "    }\n",
       "</style>\n",
       "<table border=\"1\" class=\"dataframe\">\n",
       "  <thead>\n",
       "    <tr style=\"text-align: right;\">\n",
       "      <th></th>\n",
       "      <th></th>\n",
       "      <th></th>\n",
       "      <th>count</th>\n",
       "    </tr>\n",
       "    <tr>\n",
       "      <th>Level_1</th>\n",
       "      <th>Level_2</th>\n",
       "      <th>Level_3</th>\n",
       "      <th></th>\n",
       "    </tr>\n",
       "  </thead>\n",
       "  <tbody>\n",
       "    <tr>\n",
       "      <th rowspan=\"7\" valign=\"top\">014303D1</th>\n",
       "      <th rowspan=\"4\" valign=\"top\">77F62</th>\n",
       "      <th>0EBC</th>\n",
       "      <td>57</td>\n",
       "    </tr>\n",
       "    <tr>\n",
       "      <th>0ED4</th>\n",
       "      <td>43</td>\n",
       "    </tr>\n",
       "    <tr>\n",
       "      <th>5AE1</th>\n",
       "      <td>96</td>\n",
       "    </tr>\n",
       "    <tr>\n",
       "      <th>E8E0</th>\n",
       "      <td>33</td>\n",
       "    </tr>\n",
       "    <tr>\n",
       "      <th rowspan=\"3\" valign=\"top\">7AED7</th>\n",
       "      <th>16BD</th>\n",
       "      <td>67</td>\n",
       "    </tr>\n",
       "    <tr>\n",
       "      <th>6539</th>\n",
       "      <td>121</td>\n",
       "    </tr>\n",
       "    <tr>\n",
       "      <th>BBA5</th>\n",
       "      <td>94</td>\n",
       "    </tr>\n",
       "    <tr>\n",
       "      <th rowspan=\"3\" valign=\"top\">09BF5150</th>\n",
       "      <th>262E7</th>\n",
       "      <th>29B3</th>\n",
       "      <td>65</td>\n",
       "    </tr>\n",
       "    <tr>\n",
       "      <th>5E038</th>\n",
       "      <th>6BE5</th>\n",
       "      <td>118</td>\n",
       "    </tr>\n",
       "    <tr>\n",
       "      <th>6C6B1</th>\n",
       "      <th>3AAD</th>\n",
       "      <td>38</td>\n",
       "    </tr>\n",
       "  </tbody>\n",
       "</table>\n",
       "</div>"
      ],
      "text/plain": [
       "                          count\n",
       "Level_1  Level_2 Level_3       \n",
       "014303D1 77F62   0EBC        57\n",
       "                 0ED4        43\n",
       "                 5AE1        96\n",
       "                 E8E0        33\n",
       "         7AED7   16BD        67\n",
       "                 6539       121\n",
       "                 BBA5        94\n",
       "09BF5150 262E7   29B3        65\n",
       "         5E038   6BE5       118\n",
       "         6C6B1   3AAD        38"
      ]
     },
     "execution_count": 86,
     "metadata": {},
     "output_type": "execute_result"
    }
   ],
   "source": [
    "# perform data grouping\n",
    "source_grouped = df_source.groupby(['Level_1', 'Level_2', 'Level_3'])\n",
    "source_grouped_count = source_grouped.size().to_frame(name = 'count')\n",
    "source_grouped_count.head(10)"
   ]
  },
  {
   "cell_type": "code",
   "execution_count": 87,
   "metadata": {},
   "outputs": [
    {
     "data": {
      "application/vnd.plotly.v1+json": {
       "config": {
        "plotlyServerURL": "https://plot.ly"
       },
       "data": [
        {
         "branchvalues": "total",
         "domain": {
          "x": [
           0,
           1
          ],
          "y": [
           0,
           1
          ]
         },
         "hovertemplate": "labels=%{label}<br>count=%{value}<br>parent=%{parent}<br>id=%{id}<extra></extra>",
         "ids": [
          "EFEF723B/02FA0/02B3",
          "3E1E0D78/9D9EE/05A0",
          "EFEF723B/02FA0/078B",
          "D410C91A/ACD06/0B35",
          "69286F45/2D5A3/0CB9",
          "014303D1/77F62/0EBC",
          "014303D1/77F62/0ED4",
          "57164AC1/7B638/0F8B",
          "90A8B052/08960/1000",
          "69286F45/2D5A3/1058",
          "4C3D8686/74974/1530",
          "014303D1/7AED7/16BD",
          "90A8B052/C719A/1BE5",
          "B092BA29/375FE/1F61",
          "4513C920/F4055/1F75",
          "2CEC27F1/BAE8A/20C0",
          "4513C920/31FED/215F",
          "35E04739/B2DB4/21DA",
          "09BF5150/C7E19/2212",
          "09BF5150/C7E19/224F",
          "69286F45/2D5A3/28A7",
          "09BF5150/262E7/29B3",
          "2CEC27F1/BAE8A/2ABA",
          "EFEF723B/CB803/2C15",
          "57164AC1/7B638/2C26",
          "B092BA29/5A8AB/2CFE",
          "3E1E0D78/E6162/2E14",
          "D410C91A/ACD06/33D1",
          "2CEC27F1/ADAD6/3918",
          "09BF5150/6C6B1/3AAD",
          "4513C920/31FED/3DD3",
          "96F95EEC/A04D3/3E60",
          "2CEC27F1/BAE8A/3E82",
          "4513C920/F4055/44C3",
          "EFEF723B/02FA0/473E",
          "69286F45/2D5A3/4A72",
          "57164AC1/94728/5912",
          "014303D1/77F62/5AE1",
          "4513C920/F4055/5B02",
          "EFEF723B/CB803/5BE9",
          "AAC8EE56/9B69F/5DE2",
          "96F95EEC/36080/5F7C",
          "EFEF723B/D5531/6253",
          "EFEF723B/CB803/627D",
          "4C3D8686/74974/62E8",
          "014303D1/7AED7/6539",
          "35E04739/390F1/6856",
          "35E04739/390F1/695D",
          "B092BA29/375FE/6B02",
          "09BF5150/5E038/6BE5",
          "09BF5150/F824F/7288",
          "4C3D8686/223B2/74C9",
          "4513C920/F4055/7C00",
          "AAC8EE56/9B69F/80C4",
          "3E1E0D78/9D9EE/818C",
          "35E04739/390F1/8B36",
          "35E04739/390F1/8C88",
          "4C3D8686/223B2/8FEF",
          "D410C91A/ACD06/9203",
          "57164AC1/0864A/96B8",
          "4513C920/F4055/98A8",
          "2CEC27F1/ADAD6/98CF",
          "90A8B052/C719A/A0E2",
          "09BF5150/AF6B9/A104",
          "AAC8EE56/914A1/A2B2",
          "09BF5150/915D4/A2FA",
          "90A8B052/C719A/A675",
          "B092BA29/5A8AB/AA6B",
          "35E04739/B2DB4/AE8B",
          "4513C920/F4055/B183",
          "57164AC1/94728/BB6B",
          "014303D1/7AED7/BBA5",
          "AAC8EE56/914A1/C267",
          "96F95EEC/36080/C563",
          "96F95EEC/A04D3/C5B4",
          "2CEC27F1/BAE8A/CCEE",
          "B092BA29/375FE/CD31",
          "09BF5150/C7E19/D06E",
          "35E04739/B2DB4/D436",
          "4C3D8686/223B2/D55B",
          "AAC8EE56/9B69F/D579",
          "AAC8EE56/914A1/D97D",
          "4C3D8686/74974/DAEA",
          "4513C920/E69F5/DDD5",
          "AAC8EE56/9B69F/DDDE",
          "3E1E0D78/9D9EE/E3E0",
          "014303D1/77F62/E8E0",
          "2CEC27F1/ADAD6/ED0D",
          "D410C91A/ACD06/F0EF",
          "4C3D8686/223B2/F213",
          "90A8B052/C719A/F45B",
          "AAC8EE56/914A1/F72B",
          "EFEF723B/CB803/FA9E",
          "09BF5150/C7E19/FDCF",
          "EFEF723B/02FA0",
          "57164AC1/0864A",
          "90A8B052/08960",
          "4C3D8686/223B2",
          "09BF5150/262E7",
          "69286F45/2D5A3",
          "4513C920/31FED",
          "96F95EEC/36080",
          "B092BA29/375FE",
          "35E04739/390F1",
          "B092BA29/5A8AB",
          "09BF5150/5E038",
          "09BF5150/6C6B1",
          "4C3D8686/74974",
          "014303D1/77F62",
          "014303D1/7AED7",
          "57164AC1/7B638",
          "AAC8EE56/914A1",
          "09BF5150/915D4",
          "57164AC1/94728",
          "AAC8EE56/9B69F",
          "3E1E0D78/9D9EE",
          "96F95EEC/A04D3",
          "D410C91A/ACD06",
          "2CEC27F1/ADAD6",
          "09BF5150/AF6B9",
          "35E04739/B2DB4",
          "2CEC27F1/BAE8A",
          "90A8B052/C719A",
          "09BF5150/C7E19",
          "EFEF723B/CB803",
          "EFEF723B/D5531",
          "3E1E0D78/E6162",
          "4513C920/E69F5",
          "4513C920/F4055",
          "09BF5150/F824F",
          "014303D1",
          "09BF5150",
          "2CEC27F1",
          "35E04739",
          "3E1E0D78",
          "4513C920",
          "4C3D8686",
          "57164AC1",
          "69286F45",
          "90A8B052",
          "96F95EEC",
          "AAC8EE56",
          "B092BA29",
          "D410C91A",
          "EFEF723B"
         ],
         "labels": [
          "02B3",
          "05A0",
          "078B",
          "0B35",
          "0CB9",
          "0EBC",
          "0ED4",
          "0F8B",
          "1000",
          "1058",
          "1530",
          "16BD",
          "1BE5",
          "1F61",
          "1F75",
          "20C0",
          "215F",
          "21DA",
          "2212",
          "224F",
          "28A7",
          "29B3",
          "2ABA",
          "2C15",
          "2C26",
          "2CFE",
          "2E14",
          "33D1",
          "3918",
          "3AAD",
          "3DD3",
          "3E60",
          "3E82",
          "44C3",
          "473E",
          "4A72",
          "5912",
          "5AE1",
          "5B02",
          "5BE9",
          "5DE2",
          "5F7C",
          "6253",
          "627D",
          "62E8",
          "6539",
          "6856",
          "695D",
          "6B02",
          "6BE5",
          "7288",
          "74C9",
          "7C00",
          "80C4",
          "818C",
          "8B36",
          "8C88",
          "8FEF",
          "9203",
          "96B8",
          "98A8",
          "98CF",
          "A0E2",
          "A104",
          "A2B2",
          "A2FA",
          "A675",
          "AA6B",
          "AE8B",
          "B183",
          "BB6B",
          "BBA5",
          "C267",
          "C563",
          "C5B4",
          "CCEE",
          "CD31",
          "D06E",
          "D436",
          "D55B",
          "D579",
          "D97D",
          "DAEA",
          "DDD5",
          "DDDE",
          "E3E0",
          "E8E0",
          "ED0D",
          "F0EF",
          "F213",
          "F45B",
          "F72B",
          "FA9E",
          "FDCF",
          "02FA0",
          "0864A",
          "08960",
          "223B2",
          "262E7",
          "2D5A3",
          "31FED",
          "36080",
          "375FE",
          "390F1",
          "5A8AB",
          "5E038",
          "6C6B1",
          "74974",
          "77F62",
          "7AED7",
          "7B638",
          "914A1",
          "915D4",
          "94728",
          "9B69F",
          "9D9EE",
          "A04D3",
          "ACD06",
          "ADAD6",
          "AF6B9",
          "B2DB4",
          "BAE8A",
          "C719A",
          "C7E19",
          "CB803",
          "D5531",
          "E6162",
          "E69F5",
          "F4055",
          "F824F",
          "014303D1",
          "09BF5150",
          "2CEC27F1",
          "35E04739",
          "3E1E0D78",
          "4513C920",
          "4C3D8686",
          "57164AC1",
          "69286F45",
          "90A8B052",
          "96F95EEC",
          "AAC8EE56",
          "B092BA29",
          "D410C91A",
          "EFEF723B"
         ],
         "name": "",
         "parents": [
          "EFEF723B/02FA0",
          "3E1E0D78/9D9EE",
          "EFEF723B/02FA0",
          "D410C91A/ACD06",
          "69286F45/2D5A3",
          "014303D1/77F62",
          "014303D1/77F62",
          "57164AC1/7B638",
          "90A8B052/08960",
          "69286F45/2D5A3",
          "4C3D8686/74974",
          "014303D1/7AED7",
          "90A8B052/C719A",
          "B092BA29/375FE",
          "4513C920/F4055",
          "2CEC27F1/BAE8A",
          "4513C920/31FED",
          "35E04739/B2DB4",
          "09BF5150/C7E19",
          "09BF5150/C7E19",
          "69286F45/2D5A3",
          "09BF5150/262E7",
          "2CEC27F1/BAE8A",
          "EFEF723B/CB803",
          "57164AC1/7B638",
          "B092BA29/5A8AB",
          "3E1E0D78/E6162",
          "D410C91A/ACD06",
          "2CEC27F1/ADAD6",
          "09BF5150/6C6B1",
          "4513C920/31FED",
          "96F95EEC/A04D3",
          "2CEC27F1/BAE8A",
          "4513C920/F4055",
          "EFEF723B/02FA0",
          "69286F45/2D5A3",
          "57164AC1/94728",
          "014303D1/77F62",
          "4513C920/F4055",
          "EFEF723B/CB803",
          "AAC8EE56/9B69F",
          "96F95EEC/36080",
          "EFEF723B/D5531",
          "EFEF723B/CB803",
          "4C3D8686/74974",
          "014303D1/7AED7",
          "35E04739/390F1",
          "35E04739/390F1",
          "B092BA29/375FE",
          "09BF5150/5E038",
          "09BF5150/F824F",
          "4C3D8686/223B2",
          "4513C920/F4055",
          "AAC8EE56/9B69F",
          "3E1E0D78/9D9EE",
          "35E04739/390F1",
          "35E04739/390F1",
          "4C3D8686/223B2",
          "D410C91A/ACD06",
          "57164AC1/0864A",
          "4513C920/F4055",
          "2CEC27F1/ADAD6",
          "90A8B052/C719A",
          "09BF5150/AF6B9",
          "AAC8EE56/914A1",
          "09BF5150/915D4",
          "90A8B052/C719A",
          "B092BA29/5A8AB",
          "35E04739/B2DB4",
          "4513C920/F4055",
          "57164AC1/94728",
          "014303D1/7AED7",
          "AAC8EE56/914A1",
          "96F95EEC/36080",
          "96F95EEC/A04D3",
          "2CEC27F1/BAE8A",
          "B092BA29/375FE",
          "09BF5150/C7E19",
          "35E04739/B2DB4",
          "4C3D8686/223B2",
          "AAC8EE56/9B69F",
          "AAC8EE56/914A1",
          "4C3D8686/74974",
          "4513C920/E69F5",
          "AAC8EE56/9B69F",
          "3E1E0D78/9D9EE",
          "014303D1/77F62",
          "2CEC27F1/ADAD6",
          "D410C91A/ACD06",
          "4C3D8686/223B2",
          "90A8B052/C719A",
          "AAC8EE56/914A1",
          "EFEF723B/CB803",
          "09BF5150/C7E19",
          "EFEF723B",
          "57164AC1",
          "90A8B052",
          "4C3D8686",
          "09BF5150",
          "69286F45",
          "4513C920",
          "96F95EEC",
          "B092BA29",
          "35E04739",
          "B092BA29",
          "09BF5150",
          "09BF5150",
          "4C3D8686",
          "014303D1",
          "014303D1",
          "57164AC1",
          "AAC8EE56",
          "09BF5150",
          "57164AC1",
          "AAC8EE56",
          "3E1E0D78",
          "96F95EEC",
          "D410C91A",
          "2CEC27F1",
          "09BF5150",
          "35E04739",
          "2CEC27F1",
          "90A8B052",
          "09BF5150",
          "EFEF723B",
          "EFEF723B",
          "3E1E0D78",
          "4513C920",
          "4513C920",
          "09BF5150",
          "",
          "",
          "",
          "",
          "",
          "",
          "",
          "",
          "",
          "",
          "",
          "",
          "",
          "",
          ""
         ],
         "type": "treemap",
         "values": [
          88,
          199,
          121,
          92,
          159,
          57,
          43,
          210,
          24,
          107,
          88,
          67,
          85,
          196,
          100,
          112,
          33,
          200,
          63,
          73,
          332,
          65,
          189,
          112,
          210,
          225,
          117,
          218,
          136,
          38,
          53,
          205,
          80,
          33,
          55,
          199,
          220,
          96,
          99,
          64,
          78,
          88,
          88,
          186,
          210,
          121,
          187,
          83,
          150,
          118,
          74,
          26,
          63,
          198,
          154,
          61,
          110,
          32,
          126,
          16,
          27,
          184,
          206,
          38,
          62,
          47,
          71,
          225,
          100,
          41,
          219,
          94,
          82,
          88,
          206,
          67,
          104,
          186,
          149,
          20,
          111,
          189,
          149,
          109,
          60,
          109,
          33,
          90,
          68,
          50,
          120,
          110,
          86,
          107,
          264,
          16,
          24,
          128,
          65,
          797,
          86,
          176,
          450,
          441,
          450,
          118,
          38,
          447,
          229,
          282,
          420,
          443,
          47,
          439,
          447,
          462,
          411,
          504,
          410,
          38,
          449,
          448,
          482,
          429,
          448,
          88,
          117,
          109,
          363,
          74,
          511,
          809,
          858,
          890,
          579,
          558,
          575,
          875,
          797,
          506,
          587,
          890,
          900,
          504,
          800
         ]
        }
       ],
       "layout": {
        "legend": {
         "tracegroupgap": 0
        },
        "margin": {
         "b": 25,
         "l": 25,
         "r": 25,
         "t": 25
        },
        "template": {
         "data": {
          "bar": [
           {
            "error_x": {
             "color": "#2a3f5f"
            },
            "error_y": {
             "color": "#2a3f5f"
            },
            "marker": {
             "line": {
              "color": "#E5ECF6",
              "width": 0.5
             },
             "pattern": {
              "fillmode": "overlay",
              "size": 10,
              "solidity": 0.2
             }
            },
            "type": "bar"
           }
          ],
          "barpolar": [
           {
            "marker": {
             "line": {
              "color": "#E5ECF6",
              "width": 0.5
             },
             "pattern": {
              "fillmode": "overlay",
              "size": 10,
              "solidity": 0.2
             }
            },
            "type": "barpolar"
           }
          ],
          "carpet": [
           {
            "aaxis": {
             "endlinecolor": "#2a3f5f",
             "gridcolor": "white",
             "linecolor": "white",
             "minorgridcolor": "white",
             "startlinecolor": "#2a3f5f"
            },
            "baxis": {
             "endlinecolor": "#2a3f5f",
             "gridcolor": "white",
             "linecolor": "white",
             "minorgridcolor": "white",
             "startlinecolor": "#2a3f5f"
            },
            "type": "carpet"
           }
          ],
          "choropleth": [
           {
            "colorbar": {
             "outlinewidth": 0,
             "ticks": ""
            },
            "type": "choropleth"
           }
          ],
          "contour": [
           {
            "colorbar": {
             "outlinewidth": 0,
             "ticks": ""
            },
            "colorscale": [
             [
              0,
              "#0d0887"
             ],
             [
              0.1111111111111111,
              "#46039f"
             ],
             [
              0.2222222222222222,
              "#7201a8"
             ],
             [
              0.3333333333333333,
              "#9c179e"
             ],
             [
              0.4444444444444444,
              "#bd3786"
             ],
             [
              0.5555555555555556,
              "#d8576b"
             ],
             [
              0.6666666666666666,
              "#ed7953"
             ],
             [
              0.7777777777777778,
              "#fb9f3a"
             ],
             [
              0.8888888888888888,
              "#fdca26"
             ],
             [
              1,
              "#f0f921"
             ]
            ],
            "type": "contour"
           }
          ],
          "contourcarpet": [
           {
            "colorbar": {
             "outlinewidth": 0,
             "ticks": ""
            },
            "type": "contourcarpet"
           }
          ],
          "heatmap": [
           {
            "colorbar": {
             "outlinewidth": 0,
             "ticks": ""
            },
            "colorscale": [
             [
              0,
              "#0d0887"
             ],
             [
              0.1111111111111111,
              "#46039f"
             ],
             [
              0.2222222222222222,
              "#7201a8"
             ],
             [
              0.3333333333333333,
              "#9c179e"
             ],
             [
              0.4444444444444444,
              "#bd3786"
             ],
             [
              0.5555555555555556,
              "#d8576b"
             ],
             [
              0.6666666666666666,
              "#ed7953"
             ],
             [
              0.7777777777777778,
              "#fb9f3a"
             ],
             [
              0.8888888888888888,
              "#fdca26"
             ],
             [
              1,
              "#f0f921"
             ]
            ],
            "type": "heatmap"
           }
          ],
          "heatmapgl": [
           {
            "colorbar": {
             "outlinewidth": 0,
             "ticks": ""
            },
            "colorscale": [
             [
              0,
              "#0d0887"
             ],
             [
              0.1111111111111111,
              "#46039f"
             ],
             [
              0.2222222222222222,
              "#7201a8"
             ],
             [
              0.3333333333333333,
              "#9c179e"
             ],
             [
              0.4444444444444444,
              "#bd3786"
             ],
             [
              0.5555555555555556,
              "#d8576b"
             ],
             [
              0.6666666666666666,
              "#ed7953"
             ],
             [
              0.7777777777777778,
              "#fb9f3a"
             ],
             [
              0.8888888888888888,
              "#fdca26"
             ],
             [
              1,
              "#f0f921"
             ]
            ],
            "type": "heatmapgl"
           }
          ],
          "histogram": [
           {
            "marker": {
             "pattern": {
              "fillmode": "overlay",
              "size": 10,
              "solidity": 0.2
             }
            },
            "type": "histogram"
           }
          ],
          "histogram2d": [
           {
            "colorbar": {
             "outlinewidth": 0,
             "ticks": ""
            },
            "colorscale": [
             [
              0,
              "#0d0887"
             ],
             [
              0.1111111111111111,
              "#46039f"
             ],
             [
              0.2222222222222222,
              "#7201a8"
             ],
             [
              0.3333333333333333,
              "#9c179e"
             ],
             [
              0.4444444444444444,
              "#bd3786"
             ],
             [
              0.5555555555555556,
              "#d8576b"
             ],
             [
              0.6666666666666666,
              "#ed7953"
             ],
             [
              0.7777777777777778,
              "#fb9f3a"
             ],
             [
              0.8888888888888888,
              "#fdca26"
             ],
             [
              1,
              "#f0f921"
             ]
            ],
            "type": "histogram2d"
           }
          ],
          "histogram2dcontour": [
           {
            "colorbar": {
             "outlinewidth": 0,
             "ticks": ""
            },
            "colorscale": [
             [
              0,
              "#0d0887"
             ],
             [
              0.1111111111111111,
              "#46039f"
             ],
             [
              0.2222222222222222,
              "#7201a8"
             ],
             [
              0.3333333333333333,
              "#9c179e"
             ],
             [
              0.4444444444444444,
              "#bd3786"
             ],
             [
              0.5555555555555556,
              "#d8576b"
             ],
             [
              0.6666666666666666,
              "#ed7953"
             ],
             [
              0.7777777777777778,
              "#fb9f3a"
             ],
             [
              0.8888888888888888,
              "#fdca26"
             ],
             [
              1,
              "#f0f921"
             ]
            ],
            "type": "histogram2dcontour"
           }
          ],
          "mesh3d": [
           {
            "colorbar": {
             "outlinewidth": 0,
             "ticks": ""
            },
            "type": "mesh3d"
           }
          ],
          "parcoords": [
           {
            "line": {
             "colorbar": {
              "outlinewidth": 0,
              "ticks": ""
             }
            },
            "type": "parcoords"
           }
          ],
          "pie": [
           {
            "automargin": true,
            "type": "pie"
           }
          ],
          "scatter": [
           {
            "marker": {
             "colorbar": {
              "outlinewidth": 0,
              "ticks": ""
             }
            },
            "type": "scatter"
           }
          ],
          "scatter3d": [
           {
            "line": {
             "colorbar": {
              "outlinewidth": 0,
              "ticks": ""
             }
            },
            "marker": {
             "colorbar": {
              "outlinewidth": 0,
              "ticks": ""
             }
            },
            "type": "scatter3d"
           }
          ],
          "scattercarpet": [
           {
            "marker": {
             "colorbar": {
              "outlinewidth": 0,
              "ticks": ""
             }
            },
            "type": "scattercarpet"
           }
          ],
          "scattergeo": [
           {
            "marker": {
             "colorbar": {
              "outlinewidth": 0,
              "ticks": ""
             }
            },
            "type": "scattergeo"
           }
          ],
          "scattergl": [
           {
            "marker": {
             "colorbar": {
              "outlinewidth": 0,
              "ticks": ""
             }
            },
            "type": "scattergl"
           }
          ],
          "scattermapbox": [
           {
            "marker": {
             "colorbar": {
              "outlinewidth": 0,
              "ticks": ""
             }
            },
            "type": "scattermapbox"
           }
          ],
          "scatterpolar": [
           {
            "marker": {
             "colorbar": {
              "outlinewidth": 0,
              "ticks": ""
             }
            },
            "type": "scatterpolar"
           }
          ],
          "scatterpolargl": [
           {
            "marker": {
             "colorbar": {
              "outlinewidth": 0,
              "ticks": ""
             }
            },
            "type": "scatterpolargl"
           }
          ],
          "scatterternary": [
           {
            "marker": {
             "colorbar": {
              "outlinewidth": 0,
              "ticks": ""
             }
            },
            "type": "scatterternary"
           }
          ],
          "surface": [
           {
            "colorbar": {
             "outlinewidth": 0,
             "ticks": ""
            },
            "colorscale": [
             [
              0,
              "#0d0887"
             ],
             [
              0.1111111111111111,
              "#46039f"
             ],
             [
              0.2222222222222222,
              "#7201a8"
             ],
             [
              0.3333333333333333,
              "#9c179e"
             ],
             [
              0.4444444444444444,
              "#bd3786"
             ],
             [
              0.5555555555555556,
              "#d8576b"
             ],
             [
              0.6666666666666666,
              "#ed7953"
             ],
             [
              0.7777777777777778,
              "#fb9f3a"
             ],
             [
              0.8888888888888888,
              "#fdca26"
             ],
             [
              1,
              "#f0f921"
             ]
            ],
            "type": "surface"
           }
          ],
          "table": [
           {
            "cells": {
             "fill": {
              "color": "#EBF0F8"
             },
             "line": {
              "color": "white"
             }
            },
            "header": {
             "fill": {
              "color": "#C8D4E3"
             },
             "line": {
              "color": "white"
             }
            },
            "type": "table"
           }
          ]
         },
         "layout": {
          "annotationdefaults": {
           "arrowcolor": "#2a3f5f",
           "arrowhead": 0,
           "arrowwidth": 1
          },
          "autotypenumbers": "strict",
          "coloraxis": {
           "colorbar": {
            "outlinewidth": 0,
            "ticks": ""
           }
          },
          "colorscale": {
           "diverging": [
            [
             0,
             "#8e0152"
            ],
            [
             0.1,
             "#c51b7d"
            ],
            [
             0.2,
             "#de77ae"
            ],
            [
             0.3,
             "#f1b6da"
            ],
            [
             0.4,
             "#fde0ef"
            ],
            [
             0.5,
             "#f7f7f7"
            ],
            [
             0.6,
             "#e6f5d0"
            ],
            [
             0.7,
             "#b8e186"
            ],
            [
             0.8,
             "#7fbc41"
            ],
            [
             0.9,
             "#4d9221"
            ],
            [
             1,
             "#276419"
            ]
           ],
           "sequential": [
            [
             0,
             "#0d0887"
            ],
            [
             0.1111111111111111,
             "#46039f"
            ],
            [
             0.2222222222222222,
             "#7201a8"
            ],
            [
             0.3333333333333333,
             "#9c179e"
            ],
            [
             0.4444444444444444,
             "#bd3786"
            ],
            [
             0.5555555555555556,
             "#d8576b"
            ],
            [
             0.6666666666666666,
             "#ed7953"
            ],
            [
             0.7777777777777778,
             "#fb9f3a"
            ],
            [
             0.8888888888888888,
             "#fdca26"
            ],
            [
             1,
             "#f0f921"
            ]
           ],
           "sequentialminus": [
            [
             0,
             "#0d0887"
            ],
            [
             0.1111111111111111,
             "#46039f"
            ],
            [
             0.2222222222222222,
             "#7201a8"
            ],
            [
             0.3333333333333333,
             "#9c179e"
            ],
            [
             0.4444444444444444,
             "#bd3786"
            ],
            [
             0.5555555555555556,
             "#d8576b"
            ],
            [
             0.6666666666666666,
             "#ed7953"
            ],
            [
             0.7777777777777778,
             "#fb9f3a"
            ],
            [
             0.8888888888888888,
             "#fdca26"
            ],
            [
             1,
             "#f0f921"
            ]
           ]
          },
          "colorway": [
           "#636efa",
           "#EF553B",
           "#00cc96",
           "#ab63fa",
           "#FFA15A",
           "#19d3f3",
           "#FF6692",
           "#B6E880",
           "#FF97FF",
           "#FECB52"
          ],
          "font": {
           "color": "#2a3f5f"
          },
          "geo": {
           "bgcolor": "white",
           "lakecolor": "white",
           "landcolor": "#E5ECF6",
           "showlakes": true,
           "showland": true,
           "subunitcolor": "white"
          },
          "hoverlabel": {
           "align": "left"
          },
          "hovermode": "closest",
          "mapbox": {
           "style": "light"
          },
          "paper_bgcolor": "white",
          "plot_bgcolor": "#E5ECF6",
          "polar": {
           "angularaxis": {
            "gridcolor": "white",
            "linecolor": "white",
            "ticks": ""
           },
           "bgcolor": "#E5ECF6",
           "radialaxis": {
            "gridcolor": "white",
            "linecolor": "white",
            "ticks": ""
           }
          },
          "scene": {
           "xaxis": {
            "backgroundcolor": "#E5ECF6",
            "gridcolor": "white",
            "gridwidth": 2,
            "linecolor": "white",
            "showbackground": true,
            "ticks": "",
            "zerolinecolor": "white"
           },
           "yaxis": {
            "backgroundcolor": "#E5ECF6",
            "gridcolor": "white",
            "gridwidth": 2,
            "linecolor": "white",
            "showbackground": true,
            "ticks": "",
            "zerolinecolor": "white"
           },
           "zaxis": {
            "backgroundcolor": "#E5ECF6",
            "gridcolor": "white",
            "gridwidth": 2,
            "linecolor": "white",
            "showbackground": true,
            "ticks": "",
            "zerolinecolor": "white"
           }
          },
          "shapedefaults": {
           "line": {
            "color": "#2a3f5f"
           }
          },
          "ternary": {
           "aaxis": {
            "gridcolor": "white",
            "linecolor": "white",
            "ticks": ""
           },
           "baxis": {
            "gridcolor": "white",
            "linecolor": "white",
            "ticks": ""
           },
           "bgcolor": "#E5ECF6",
           "caxis": {
            "gridcolor": "white",
            "linecolor": "white",
            "ticks": ""
           }
          },
          "title": {
           "x": 0.05
          },
          "xaxis": {
           "automargin": true,
           "gridcolor": "white",
           "linecolor": "white",
           "ticks": "",
           "title": {
            "standoff": 15
           },
           "zerolinecolor": "white",
           "zerolinewidth": 2
          },
          "yaxis": {
           "automargin": true,
           "gridcolor": "white",
           "linecolor": "white",
           "ticks": "",
           "title": {
            "standoff": 15
           },
           "zerolinecolor": "white",
           "zerolinewidth": 2
          }
         }
        }
       }
      },
      "text/html": [
       "<div>                            <div id=\"1ac87ef6-6c48-4762-89ad-60bc38024b74\" class=\"plotly-graph-div\" style=\"height:525px; width:100%;\"></div>            <script type=\"text/javascript\">                require([\"plotly\"], function(Plotly) {                    window.PLOTLYENV=window.PLOTLYENV || {};                                    if (document.getElementById(\"1ac87ef6-6c48-4762-89ad-60bc38024b74\")) {                    Plotly.newPlot(                        \"1ac87ef6-6c48-4762-89ad-60bc38024b74\",                        [{\"branchvalues\":\"total\",\"domain\":{\"x\":[0.0,1.0],\"y\":[0.0,1.0]},\"hovertemplate\":\"labels=%{label}<br>count=%{value}<br>parent=%{parent}<br>id=%{id}<extra></extra>\",\"ids\":[\"EFEF723B/02FA0/02B3\",\"3E1E0D78/9D9EE/05A0\",\"EFEF723B/02FA0/078B\",\"D410C91A/ACD06/0B35\",\"69286F45/2D5A3/0CB9\",\"014303D1/77F62/0EBC\",\"014303D1/77F62/0ED4\",\"57164AC1/7B638/0F8B\",\"90A8B052/08960/1000\",\"69286F45/2D5A3/1058\",\"4C3D8686/74974/1530\",\"014303D1/7AED7/16BD\",\"90A8B052/C719A/1BE5\",\"B092BA29/375FE/1F61\",\"4513C920/F4055/1F75\",\"2CEC27F1/BAE8A/20C0\",\"4513C920/31FED/215F\",\"35E04739/B2DB4/21DA\",\"09BF5150/C7E19/2212\",\"09BF5150/C7E19/224F\",\"69286F45/2D5A3/28A7\",\"09BF5150/262E7/29B3\",\"2CEC27F1/BAE8A/2ABA\",\"EFEF723B/CB803/2C15\",\"57164AC1/7B638/2C26\",\"B092BA29/5A8AB/2CFE\",\"3E1E0D78/E6162/2E14\",\"D410C91A/ACD06/33D1\",\"2CEC27F1/ADAD6/3918\",\"09BF5150/6C6B1/3AAD\",\"4513C920/31FED/3DD3\",\"96F95EEC/A04D3/3E60\",\"2CEC27F1/BAE8A/3E82\",\"4513C920/F4055/44C3\",\"EFEF723B/02FA0/473E\",\"69286F45/2D5A3/4A72\",\"57164AC1/94728/5912\",\"014303D1/77F62/5AE1\",\"4513C920/F4055/5B02\",\"EFEF723B/CB803/5BE9\",\"AAC8EE56/9B69F/5DE2\",\"96F95EEC/36080/5F7C\",\"EFEF723B/D5531/6253\",\"EFEF723B/CB803/627D\",\"4C3D8686/74974/62E8\",\"014303D1/7AED7/6539\",\"35E04739/390F1/6856\",\"35E04739/390F1/695D\",\"B092BA29/375FE/6B02\",\"09BF5150/5E038/6BE5\",\"09BF5150/F824F/7288\",\"4C3D8686/223B2/74C9\",\"4513C920/F4055/7C00\",\"AAC8EE56/9B69F/80C4\",\"3E1E0D78/9D9EE/818C\",\"35E04739/390F1/8B36\",\"35E04739/390F1/8C88\",\"4C3D8686/223B2/8FEF\",\"D410C91A/ACD06/9203\",\"57164AC1/0864A/96B8\",\"4513C920/F4055/98A8\",\"2CEC27F1/ADAD6/98CF\",\"90A8B052/C719A/A0E2\",\"09BF5150/AF6B9/A104\",\"AAC8EE56/914A1/A2B2\",\"09BF5150/915D4/A2FA\",\"90A8B052/C719A/A675\",\"B092BA29/5A8AB/AA6B\",\"35E04739/B2DB4/AE8B\",\"4513C920/F4055/B183\",\"57164AC1/94728/BB6B\",\"014303D1/7AED7/BBA5\",\"AAC8EE56/914A1/C267\",\"96F95EEC/36080/C563\",\"96F95EEC/A04D3/C5B4\",\"2CEC27F1/BAE8A/CCEE\",\"B092BA29/375FE/CD31\",\"09BF5150/C7E19/D06E\",\"35E04739/B2DB4/D436\",\"4C3D8686/223B2/D55B\",\"AAC8EE56/9B69F/D579\",\"AAC8EE56/914A1/D97D\",\"4C3D8686/74974/DAEA\",\"4513C920/E69F5/DDD5\",\"AAC8EE56/9B69F/DDDE\",\"3E1E0D78/9D9EE/E3E0\",\"014303D1/77F62/E8E0\",\"2CEC27F1/ADAD6/ED0D\",\"D410C91A/ACD06/F0EF\",\"4C3D8686/223B2/F213\",\"90A8B052/C719A/F45B\",\"AAC8EE56/914A1/F72B\",\"EFEF723B/CB803/FA9E\",\"09BF5150/C7E19/FDCF\",\"EFEF723B/02FA0\",\"57164AC1/0864A\",\"90A8B052/08960\",\"4C3D8686/223B2\",\"09BF5150/262E7\",\"69286F45/2D5A3\",\"4513C920/31FED\",\"96F95EEC/36080\",\"B092BA29/375FE\",\"35E04739/390F1\",\"B092BA29/5A8AB\",\"09BF5150/5E038\",\"09BF5150/6C6B1\",\"4C3D8686/74974\",\"014303D1/77F62\",\"014303D1/7AED7\",\"57164AC1/7B638\",\"AAC8EE56/914A1\",\"09BF5150/915D4\",\"57164AC1/94728\",\"AAC8EE56/9B69F\",\"3E1E0D78/9D9EE\",\"96F95EEC/A04D3\",\"D410C91A/ACD06\",\"2CEC27F1/ADAD6\",\"09BF5150/AF6B9\",\"35E04739/B2DB4\",\"2CEC27F1/BAE8A\",\"90A8B052/C719A\",\"09BF5150/C7E19\",\"EFEF723B/CB803\",\"EFEF723B/D5531\",\"3E1E0D78/E6162\",\"4513C920/E69F5\",\"4513C920/F4055\",\"09BF5150/F824F\",\"014303D1\",\"09BF5150\",\"2CEC27F1\",\"35E04739\",\"3E1E0D78\",\"4513C920\",\"4C3D8686\",\"57164AC1\",\"69286F45\",\"90A8B052\",\"96F95EEC\",\"AAC8EE56\",\"B092BA29\",\"D410C91A\",\"EFEF723B\"],\"labels\":[\"02B3\",\"05A0\",\"078B\",\"0B35\",\"0CB9\",\"0EBC\",\"0ED4\",\"0F8B\",\"1000\",\"1058\",\"1530\",\"16BD\",\"1BE5\",\"1F61\",\"1F75\",\"20C0\",\"215F\",\"21DA\",\"2212\",\"224F\",\"28A7\",\"29B3\",\"2ABA\",\"2C15\",\"2C26\",\"2CFE\",\"2E14\",\"33D1\",\"3918\",\"3AAD\",\"3DD3\",\"3E60\",\"3E82\",\"44C3\",\"473E\",\"4A72\",\"5912\",\"5AE1\",\"5B02\",\"5BE9\",\"5DE2\",\"5F7C\",\"6253\",\"627D\",\"62E8\",\"6539\",\"6856\",\"695D\",\"6B02\",\"6BE5\",\"7288\",\"74C9\",\"7C00\",\"80C4\",\"818C\",\"8B36\",\"8C88\",\"8FEF\",\"9203\",\"96B8\",\"98A8\",\"98CF\",\"A0E2\",\"A104\",\"A2B2\",\"A2FA\",\"A675\",\"AA6B\",\"AE8B\",\"B183\",\"BB6B\",\"BBA5\",\"C267\",\"C563\",\"C5B4\",\"CCEE\",\"CD31\",\"D06E\",\"D436\",\"D55B\",\"D579\",\"D97D\",\"DAEA\",\"DDD5\",\"DDDE\",\"E3E0\",\"E8E0\",\"ED0D\",\"F0EF\",\"F213\",\"F45B\",\"F72B\",\"FA9E\",\"FDCF\",\"02FA0\",\"0864A\",\"08960\",\"223B2\",\"262E7\",\"2D5A3\",\"31FED\",\"36080\",\"375FE\",\"390F1\",\"5A8AB\",\"5E038\",\"6C6B1\",\"74974\",\"77F62\",\"7AED7\",\"7B638\",\"914A1\",\"915D4\",\"94728\",\"9B69F\",\"9D9EE\",\"A04D3\",\"ACD06\",\"ADAD6\",\"AF6B9\",\"B2DB4\",\"BAE8A\",\"C719A\",\"C7E19\",\"CB803\",\"D5531\",\"E6162\",\"E69F5\",\"F4055\",\"F824F\",\"014303D1\",\"09BF5150\",\"2CEC27F1\",\"35E04739\",\"3E1E0D78\",\"4513C920\",\"4C3D8686\",\"57164AC1\",\"69286F45\",\"90A8B052\",\"96F95EEC\",\"AAC8EE56\",\"B092BA29\",\"D410C91A\",\"EFEF723B\"],\"name\":\"\",\"parents\":[\"EFEF723B/02FA0\",\"3E1E0D78/9D9EE\",\"EFEF723B/02FA0\",\"D410C91A/ACD06\",\"69286F45/2D5A3\",\"014303D1/77F62\",\"014303D1/77F62\",\"57164AC1/7B638\",\"90A8B052/08960\",\"69286F45/2D5A3\",\"4C3D8686/74974\",\"014303D1/7AED7\",\"90A8B052/C719A\",\"B092BA29/375FE\",\"4513C920/F4055\",\"2CEC27F1/BAE8A\",\"4513C920/31FED\",\"35E04739/B2DB4\",\"09BF5150/C7E19\",\"09BF5150/C7E19\",\"69286F45/2D5A3\",\"09BF5150/262E7\",\"2CEC27F1/BAE8A\",\"EFEF723B/CB803\",\"57164AC1/7B638\",\"B092BA29/5A8AB\",\"3E1E0D78/E6162\",\"D410C91A/ACD06\",\"2CEC27F1/ADAD6\",\"09BF5150/6C6B1\",\"4513C920/31FED\",\"96F95EEC/A04D3\",\"2CEC27F1/BAE8A\",\"4513C920/F4055\",\"EFEF723B/02FA0\",\"69286F45/2D5A3\",\"57164AC1/94728\",\"014303D1/77F62\",\"4513C920/F4055\",\"EFEF723B/CB803\",\"AAC8EE56/9B69F\",\"96F95EEC/36080\",\"EFEF723B/D5531\",\"EFEF723B/CB803\",\"4C3D8686/74974\",\"014303D1/7AED7\",\"35E04739/390F1\",\"35E04739/390F1\",\"B092BA29/375FE\",\"09BF5150/5E038\",\"09BF5150/F824F\",\"4C3D8686/223B2\",\"4513C920/F4055\",\"AAC8EE56/9B69F\",\"3E1E0D78/9D9EE\",\"35E04739/390F1\",\"35E04739/390F1\",\"4C3D8686/223B2\",\"D410C91A/ACD06\",\"57164AC1/0864A\",\"4513C920/F4055\",\"2CEC27F1/ADAD6\",\"90A8B052/C719A\",\"09BF5150/AF6B9\",\"AAC8EE56/914A1\",\"09BF5150/915D4\",\"90A8B052/C719A\",\"B092BA29/5A8AB\",\"35E04739/B2DB4\",\"4513C920/F4055\",\"57164AC1/94728\",\"014303D1/7AED7\",\"AAC8EE56/914A1\",\"96F95EEC/36080\",\"96F95EEC/A04D3\",\"2CEC27F1/BAE8A\",\"B092BA29/375FE\",\"09BF5150/C7E19\",\"35E04739/B2DB4\",\"4C3D8686/223B2\",\"AAC8EE56/9B69F\",\"AAC8EE56/914A1\",\"4C3D8686/74974\",\"4513C920/E69F5\",\"AAC8EE56/9B69F\",\"3E1E0D78/9D9EE\",\"014303D1/77F62\",\"2CEC27F1/ADAD6\",\"D410C91A/ACD06\",\"4C3D8686/223B2\",\"90A8B052/C719A\",\"AAC8EE56/914A1\",\"EFEF723B/CB803\",\"09BF5150/C7E19\",\"EFEF723B\",\"57164AC1\",\"90A8B052\",\"4C3D8686\",\"09BF5150\",\"69286F45\",\"4513C920\",\"96F95EEC\",\"B092BA29\",\"35E04739\",\"B092BA29\",\"09BF5150\",\"09BF5150\",\"4C3D8686\",\"014303D1\",\"014303D1\",\"57164AC1\",\"AAC8EE56\",\"09BF5150\",\"57164AC1\",\"AAC8EE56\",\"3E1E0D78\",\"96F95EEC\",\"D410C91A\",\"2CEC27F1\",\"09BF5150\",\"35E04739\",\"2CEC27F1\",\"90A8B052\",\"09BF5150\",\"EFEF723B\",\"EFEF723B\",\"3E1E0D78\",\"4513C920\",\"4513C920\",\"09BF5150\",\"\",\"\",\"\",\"\",\"\",\"\",\"\",\"\",\"\",\"\",\"\",\"\",\"\",\"\",\"\"],\"values\":[88,199,121,92,159,57,43,210,24,107,88,67,85,196,100,112,33,200,63,73,332,65,189,112,210,225,117,218,136,38,53,205,80,33,55,199,220,96,99,64,78,88,88,186,210,121,187,83,150,118,74,26,63,198,154,61,110,32,126,16,27,184,206,38,62,47,71,225,100,41,219,94,82,88,206,67,104,186,149,20,111,189,149,109,60,109,33,90,68,50,120,110,86,107,264,16,24,128,65,797,86,176,450,441,450,118,38,447,229,282,420,443,47,439,447,462,411,504,410,38,449,448,482,429,448,88,117,109,363,74,511,809,858,890,579,558,575,875,797,506,587,890,900,504,800],\"type\":\"treemap\"}],                        {\"template\":{\"data\":{\"bar\":[{\"error_x\":{\"color\":\"#2a3f5f\"},\"error_y\":{\"color\":\"#2a3f5f\"},\"marker\":{\"line\":{\"color\":\"#E5ECF6\",\"width\":0.5},\"pattern\":{\"fillmode\":\"overlay\",\"size\":10,\"solidity\":0.2}},\"type\":\"bar\"}],\"barpolar\":[{\"marker\":{\"line\":{\"color\":\"#E5ECF6\",\"width\":0.5},\"pattern\":{\"fillmode\":\"overlay\",\"size\":10,\"solidity\":0.2}},\"type\":\"barpolar\"}],\"carpet\":[{\"aaxis\":{\"endlinecolor\":\"#2a3f5f\",\"gridcolor\":\"white\",\"linecolor\":\"white\",\"minorgridcolor\":\"white\",\"startlinecolor\":\"#2a3f5f\"},\"baxis\":{\"endlinecolor\":\"#2a3f5f\",\"gridcolor\":\"white\",\"linecolor\":\"white\",\"minorgridcolor\":\"white\",\"startlinecolor\":\"#2a3f5f\"},\"type\":\"carpet\"}],\"choropleth\":[{\"colorbar\":{\"outlinewidth\":0,\"ticks\":\"\"},\"type\":\"choropleth\"}],\"contour\":[{\"colorbar\":{\"outlinewidth\":0,\"ticks\":\"\"},\"colorscale\":[[0.0,\"#0d0887\"],[0.1111111111111111,\"#46039f\"],[0.2222222222222222,\"#7201a8\"],[0.3333333333333333,\"#9c179e\"],[0.4444444444444444,\"#bd3786\"],[0.5555555555555556,\"#d8576b\"],[0.6666666666666666,\"#ed7953\"],[0.7777777777777778,\"#fb9f3a\"],[0.8888888888888888,\"#fdca26\"],[1.0,\"#f0f921\"]],\"type\":\"contour\"}],\"contourcarpet\":[{\"colorbar\":{\"outlinewidth\":0,\"ticks\":\"\"},\"type\":\"contourcarpet\"}],\"heatmap\":[{\"colorbar\":{\"outlinewidth\":0,\"ticks\":\"\"},\"colorscale\":[[0.0,\"#0d0887\"],[0.1111111111111111,\"#46039f\"],[0.2222222222222222,\"#7201a8\"],[0.3333333333333333,\"#9c179e\"],[0.4444444444444444,\"#bd3786\"],[0.5555555555555556,\"#d8576b\"],[0.6666666666666666,\"#ed7953\"],[0.7777777777777778,\"#fb9f3a\"],[0.8888888888888888,\"#fdca26\"],[1.0,\"#f0f921\"]],\"type\":\"heatmap\"}],\"heatmapgl\":[{\"colorbar\":{\"outlinewidth\":0,\"ticks\":\"\"},\"colorscale\":[[0.0,\"#0d0887\"],[0.1111111111111111,\"#46039f\"],[0.2222222222222222,\"#7201a8\"],[0.3333333333333333,\"#9c179e\"],[0.4444444444444444,\"#bd3786\"],[0.5555555555555556,\"#d8576b\"],[0.6666666666666666,\"#ed7953\"],[0.7777777777777778,\"#fb9f3a\"],[0.8888888888888888,\"#fdca26\"],[1.0,\"#f0f921\"]],\"type\":\"heatmapgl\"}],\"histogram\":[{\"marker\":{\"pattern\":{\"fillmode\":\"overlay\",\"size\":10,\"solidity\":0.2}},\"type\":\"histogram\"}],\"histogram2d\":[{\"colorbar\":{\"outlinewidth\":0,\"ticks\":\"\"},\"colorscale\":[[0.0,\"#0d0887\"],[0.1111111111111111,\"#46039f\"],[0.2222222222222222,\"#7201a8\"],[0.3333333333333333,\"#9c179e\"],[0.4444444444444444,\"#bd3786\"],[0.5555555555555556,\"#d8576b\"],[0.6666666666666666,\"#ed7953\"],[0.7777777777777778,\"#fb9f3a\"],[0.8888888888888888,\"#fdca26\"],[1.0,\"#f0f921\"]],\"type\":\"histogram2d\"}],\"histogram2dcontour\":[{\"colorbar\":{\"outlinewidth\":0,\"ticks\":\"\"},\"colorscale\":[[0.0,\"#0d0887\"],[0.1111111111111111,\"#46039f\"],[0.2222222222222222,\"#7201a8\"],[0.3333333333333333,\"#9c179e\"],[0.4444444444444444,\"#bd3786\"],[0.5555555555555556,\"#d8576b\"],[0.6666666666666666,\"#ed7953\"],[0.7777777777777778,\"#fb9f3a\"],[0.8888888888888888,\"#fdca26\"],[1.0,\"#f0f921\"]],\"type\":\"histogram2dcontour\"}],\"mesh3d\":[{\"colorbar\":{\"outlinewidth\":0,\"ticks\":\"\"},\"type\":\"mesh3d\"}],\"parcoords\":[{\"line\":{\"colorbar\":{\"outlinewidth\":0,\"ticks\":\"\"}},\"type\":\"parcoords\"}],\"pie\":[{\"automargin\":true,\"type\":\"pie\"}],\"scatter\":[{\"marker\":{\"colorbar\":{\"outlinewidth\":0,\"ticks\":\"\"}},\"type\":\"scatter\"}],\"scatter3d\":[{\"line\":{\"colorbar\":{\"outlinewidth\":0,\"ticks\":\"\"}},\"marker\":{\"colorbar\":{\"outlinewidth\":0,\"ticks\":\"\"}},\"type\":\"scatter3d\"}],\"scattercarpet\":[{\"marker\":{\"colorbar\":{\"outlinewidth\":0,\"ticks\":\"\"}},\"type\":\"scattercarpet\"}],\"scattergeo\":[{\"marker\":{\"colorbar\":{\"outlinewidth\":0,\"ticks\":\"\"}},\"type\":\"scattergeo\"}],\"scattergl\":[{\"marker\":{\"colorbar\":{\"outlinewidth\":0,\"ticks\":\"\"}},\"type\":\"scattergl\"}],\"scattermapbox\":[{\"marker\":{\"colorbar\":{\"outlinewidth\":0,\"ticks\":\"\"}},\"type\":\"scattermapbox\"}],\"scatterpolar\":[{\"marker\":{\"colorbar\":{\"outlinewidth\":0,\"ticks\":\"\"}},\"type\":\"scatterpolar\"}],\"scatterpolargl\":[{\"marker\":{\"colorbar\":{\"outlinewidth\":0,\"ticks\":\"\"}},\"type\":\"scatterpolargl\"}],\"scatterternary\":[{\"marker\":{\"colorbar\":{\"outlinewidth\":0,\"ticks\":\"\"}},\"type\":\"scatterternary\"}],\"surface\":[{\"colorbar\":{\"outlinewidth\":0,\"ticks\":\"\"},\"colorscale\":[[0.0,\"#0d0887\"],[0.1111111111111111,\"#46039f\"],[0.2222222222222222,\"#7201a8\"],[0.3333333333333333,\"#9c179e\"],[0.4444444444444444,\"#bd3786\"],[0.5555555555555556,\"#d8576b\"],[0.6666666666666666,\"#ed7953\"],[0.7777777777777778,\"#fb9f3a\"],[0.8888888888888888,\"#fdca26\"],[1.0,\"#f0f921\"]],\"type\":\"surface\"}],\"table\":[{\"cells\":{\"fill\":{\"color\":\"#EBF0F8\"},\"line\":{\"color\":\"white\"}},\"header\":{\"fill\":{\"color\":\"#C8D4E3\"},\"line\":{\"color\":\"white\"}},\"type\":\"table\"}]},\"layout\":{\"annotationdefaults\":{\"arrowcolor\":\"#2a3f5f\",\"arrowhead\":0,\"arrowwidth\":1},\"autotypenumbers\":\"strict\",\"coloraxis\":{\"colorbar\":{\"outlinewidth\":0,\"ticks\":\"\"}},\"colorscale\":{\"diverging\":[[0,\"#8e0152\"],[0.1,\"#c51b7d\"],[0.2,\"#de77ae\"],[0.3,\"#f1b6da\"],[0.4,\"#fde0ef\"],[0.5,\"#f7f7f7\"],[0.6,\"#e6f5d0\"],[0.7,\"#b8e186\"],[0.8,\"#7fbc41\"],[0.9,\"#4d9221\"],[1,\"#276419\"]],\"sequential\":[[0.0,\"#0d0887\"],[0.1111111111111111,\"#46039f\"],[0.2222222222222222,\"#7201a8\"],[0.3333333333333333,\"#9c179e\"],[0.4444444444444444,\"#bd3786\"],[0.5555555555555556,\"#d8576b\"],[0.6666666666666666,\"#ed7953\"],[0.7777777777777778,\"#fb9f3a\"],[0.8888888888888888,\"#fdca26\"],[1.0,\"#f0f921\"]],\"sequentialminus\":[[0.0,\"#0d0887\"],[0.1111111111111111,\"#46039f\"],[0.2222222222222222,\"#7201a8\"],[0.3333333333333333,\"#9c179e\"],[0.4444444444444444,\"#bd3786\"],[0.5555555555555556,\"#d8576b\"],[0.6666666666666666,\"#ed7953\"],[0.7777777777777778,\"#fb9f3a\"],[0.8888888888888888,\"#fdca26\"],[1.0,\"#f0f921\"]]},\"colorway\":[\"#636efa\",\"#EF553B\",\"#00cc96\",\"#ab63fa\",\"#FFA15A\",\"#19d3f3\",\"#FF6692\",\"#B6E880\",\"#FF97FF\",\"#FECB52\"],\"font\":{\"color\":\"#2a3f5f\"},\"geo\":{\"bgcolor\":\"white\",\"lakecolor\":\"white\",\"landcolor\":\"#E5ECF6\",\"showlakes\":true,\"showland\":true,\"subunitcolor\":\"white\"},\"hoverlabel\":{\"align\":\"left\"},\"hovermode\":\"closest\",\"mapbox\":{\"style\":\"light\"},\"paper_bgcolor\":\"white\",\"plot_bgcolor\":\"#E5ECF6\",\"polar\":{\"angularaxis\":{\"gridcolor\":\"white\",\"linecolor\":\"white\",\"ticks\":\"\"},\"bgcolor\":\"#E5ECF6\",\"radialaxis\":{\"gridcolor\":\"white\",\"linecolor\":\"white\",\"ticks\":\"\"}},\"scene\":{\"xaxis\":{\"backgroundcolor\":\"#E5ECF6\",\"gridcolor\":\"white\",\"gridwidth\":2,\"linecolor\":\"white\",\"showbackground\":true,\"ticks\":\"\",\"zerolinecolor\":\"white\"},\"yaxis\":{\"backgroundcolor\":\"#E5ECF6\",\"gridcolor\":\"white\",\"gridwidth\":2,\"linecolor\":\"white\",\"showbackground\":true,\"ticks\":\"\",\"zerolinecolor\":\"white\"},\"zaxis\":{\"backgroundcolor\":\"#E5ECF6\",\"gridcolor\":\"white\",\"gridwidth\":2,\"linecolor\":\"white\",\"showbackground\":true,\"ticks\":\"\",\"zerolinecolor\":\"white\"}},\"shapedefaults\":{\"line\":{\"color\":\"#2a3f5f\"}},\"ternary\":{\"aaxis\":{\"gridcolor\":\"white\",\"linecolor\":\"white\",\"ticks\":\"\"},\"baxis\":{\"gridcolor\":\"white\",\"linecolor\":\"white\",\"ticks\":\"\"},\"bgcolor\":\"#E5ECF6\",\"caxis\":{\"gridcolor\":\"white\",\"linecolor\":\"white\",\"ticks\":\"\"}},\"title\":{\"x\":0.05},\"xaxis\":{\"automargin\":true,\"gridcolor\":\"white\",\"linecolor\":\"white\",\"ticks\":\"\",\"title\":{\"standoff\":15},\"zerolinecolor\":\"white\",\"zerolinewidth\":2},\"yaxis\":{\"automargin\":true,\"gridcolor\":\"white\",\"linecolor\":\"white\",\"ticks\":\"\",\"title\":{\"standoff\":15},\"zerolinecolor\":\"white\",\"zerolinewidth\":2}}},\"legend\":{\"tracegroupgap\":0},\"margin\":{\"t\":25,\"l\":25,\"r\":25,\"b\":25}},                        {\"responsive\": true}                    ).then(function(){\n",
       "                            \n",
       "var gd = document.getElementById('1ac87ef6-6c48-4762-89ad-60bc38024b74');\n",
       "var x = new MutationObserver(function (mutations, observer) {{\n",
       "        var display = window.getComputedStyle(gd).display;\n",
       "        if (!display || display === 'none') {{\n",
       "            console.log([gd, 'removed!']);\n",
       "            Plotly.purge(gd);\n",
       "            observer.disconnect();\n",
       "        }}\n",
       "}});\n",
       "\n",
       "// Listen for the removal of the full notebook cells\n",
       "var notebookContainer = gd.closest('#notebook-container');\n",
       "if (notebookContainer) {{\n",
       "    x.observe(notebookContainer, {childList: true});\n",
       "}}\n",
       "\n",
       "// Listen for the clearing of the current output cell\n",
       "var outputEl = gd.closest('.output');\n",
       "if (outputEl) {{\n",
       "    x.observe(outputEl, {childList: true});\n",
       "}}\n",
       "\n",
       "                        })                };                });            </script>        </div>"
      ]
     },
     "metadata": {},
     "output_type": "display_data"
    }
   ],
   "source": [
    "# visualize the dataset hirachy\n",
    "fig = px.treemap(source_grouped_count.reset_index(), path=['Level_1', 'Level_2', 'Level_3'], values='count')\n",
    "fig.update_layout(margin = dict(t=25, l=25, r=25, b=25))\n",
    "fig.show()"
   ]
  },
  {
   "cell_type": "code",
   "execution_count": 88,
   "metadata": {},
   "outputs": [
    {
     "name": "stdout",
     "output_type": "stream",
     "text": [
      "--- Distinct Categories ---\n",
      "Level 1 : 15\n",
      "Level 2 : 36\n",
      "Level 3 : 94\n",
      "All     : 94\n"
     ]
    }
   ],
   "source": [
    "def print_categories(data:pd.DataFrame):\n",
    "    \"\"\"\n",
    "    Print a count of the distinct categories in the dataset.\n",
    "    \"\"\"\n",
    "    # determine the number of distinct\n",
    "    print('--- Distinct Categories ---')\n",
    "    print('Level 1 : %d' % data[['Level_1']].drop_duplicates().shape[0])\n",
    "    print('Level 2 : %d' % data[['Level_2']].drop_duplicates().shape[0])\n",
    "    print('Level 3 : %d' % data[['Level_3']].drop_duplicates().shape[0])\n",
    "    print('All     : %d' % data[['Level_1', 'Level_2', 'Level_3']].drop_duplicates().shape[0])\n",
    "\n",
    "# show the number of distinct categories in the dataset\n",
    "print_categories(df_source)"
   ]
  },
  {
   "cell_type": "markdown",
   "metadata": {},
   "source": [
    "## Find Missing Values"
   ]
  },
  {
   "cell_type": "code",
   "execution_count": 89,
   "metadata": {},
   "outputs": [
    {
     "data": {
      "text/plain": [
       "Description    12\n",
       "Level_1         0\n",
       "Level_2         0\n",
       "Level_3         0\n",
       "dtype: int64"
      ]
     },
     "execution_count": 89,
     "metadata": {},
     "output_type": "execute_result"
    }
   ],
   "source": [
    "df_source.isna().sum()"
   ]
  },
  {
   "cell_type": "code",
   "execution_count": 90,
   "metadata": {},
   "outputs": [
    {
     "data": {
      "text/html": [
       "<div>\n",
       "<style scoped>\n",
       "    .dataframe tbody tr th:only-of-type {\n",
       "        vertical-align: middle;\n",
       "    }\n",
       "\n",
       "    .dataframe tbody tr th {\n",
       "        vertical-align: top;\n",
       "    }\n",
       "\n",
       "    .dataframe thead th {\n",
       "        text-align: right;\n",
       "    }\n",
       "</style>\n",
       "<table border=\"1\" class=\"dataframe\">\n",
       "  <thead>\n",
       "    <tr style=\"text-align: right;\">\n",
       "      <th></th>\n",
       "      <th>Description</th>\n",
       "      <th>Level_1</th>\n",
       "      <th>Level_2</th>\n",
       "      <th>Level_3</th>\n",
       "    </tr>\n",
       "  </thead>\n",
       "  <tbody>\n",
       "    <tr>\n",
       "      <th>1063</th>\n",
       "      <td>NaN</td>\n",
       "      <td>4C3D8686</td>\n",
       "      <td>74974</td>\n",
       "      <td>62E8</td>\n",
       "    </tr>\n",
       "    <tr>\n",
       "      <th>3434</th>\n",
       "      <td>NaN</td>\n",
       "      <td>09BF5150</td>\n",
       "      <td>F824F</td>\n",
       "      <td>7288</td>\n",
       "    </tr>\n",
       "    <tr>\n",
       "      <th>3458</th>\n",
       "      <td>NaN</td>\n",
       "      <td>09BF5150</td>\n",
       "      <td>F824F</td>\n",
       "      <td>7288</td>\n",
       "    </tr>\n",
       "    <tr>\n",
       "      <th>7754</th>\n",
       "      <td>NaN</td>\n",
       "      <td>09BF5150</td>\n",
       "      <td>6C6B1</td>\n",
       "      <td>3AAD</td>\n",
       "    </tr>\n",
       "    <tr>\n",
       "      <th>7788</th>\n",
       "      <td>NaN</td>\n",
       "      <td>09BF5150</td>\n",
       "      <td>6C6B1</td>\n",
       "      <td>3AAD</td>\n",
       "    </tr>\n",
       "    <tr>\n",
       "      <th>7796</th>\n",
       "      <td>NaN</td>\n",
       "      <td>09BF5150</td>\n",
       "      <td>5E038</td>\n",
       "      <td>6BE5</td>\n",
       "    </tr>\n",
       "    <tr>\n",
       "      <th>7808</th>\n",
       "      <td>NaN</td>\n",
       "      <td>09BF5150</td>\n",
       "      <td>5E038</td>\n",
       "      <td>6BE5</td>\n",
       "    </tr>\n",
       "    <tr>\n",
       "      <th>7859</th>\n",
       "      <td>NaN</td>\n",
       "      <td>09BF5150</td>\n",
       "      <td>5E038</td>\n",
       "      <td>6BE5</td>\n",
       "    </tr>\n",
       "    <tr>\n",
       "      <th>7936</th>\n",
       "      <td>NaN</td>\n",
       "      <td>09BF5150</td>\n",
       "      <td>262E7</td>\n",
       "      <td>29B3</td>\n",
       "    </tr>\n",
       "    <tr>\n",
       "      <th>7962</th>\n",
       "      <td>NaN</td>\n",
       "      <td>09BF5150</td>\n",
       "      <td>262E7</td>\n",
       "      <td>29B3</td>\n",
       "    </tr>\n",
       "    <tr>\n",
       "      <th>7988</th>\n",
       "      <td>NaN</td>\n",
       "      <td>09BF5150</td>\n",
       "      <td>AF6B9</td>\n",
       "      <td>A104</td>\n",
       "    </tr>\n",
       "    <tr>\n",
       "      <th>8004</th>\n",
       "      <td>NaN</td>\n",
       "      <td>09BF5150</td>\n",
       "      <td>AF6B9</td>\n",
       "      <td>A104</td>\n",
       "    </tr>\n",
       "  </tbody>\n",
       "</table>\n",
       "</div>"
      ],
      "text/plain": [
       "     Description   Level_1 Level_2 Level_3\n",
       "1063         NaN  4C3D8686   74974    62E8\n",
       "3434         NaN  09BF5150   F824F    7288\n",
       "3458         NaN  09BF5150   F824F    7288\n",
       "7754         NaN  09BF5150   6C6B1    3AAD\n",
       "7788         NaN  09BF5150   6C6B1    3AAD\n",
       "7796         NaN  09BF5150   5E038    6BE5\n",
       "7808         NaN  09BF5150   5E038    6BE5\n",
       "7859         NaN  09BF5150   5E038    6BE5\n",
       "7936         NaN  09BF5150   262E7    29B3\n",
       "7962         NaN  09BF5150   262E7    29B3\n",
       "7988         NaN  09BF5150   AF6B9    A104\n",
       "8004         NaN  09BF5150   AF6B9    A104"
      ]
     },
     "execution_count": 90,
     "metadata": {},
     "output_type": "execute_result"
    }
   ],
   "source": [
    "# show the rows with missing values\n",
    "df_source.iloc[df_source.index[df_source.isnull().any(axis=1)]]"
   ]
  },
  {
   "cell_type": "markdown",
   "metadata": {},
   "source": [
    "## Deal with Missing Data (4 marks)"
   ]
  },
  {
   "cell_type": "code",
   "execution_count": 91,
   "metadata": {},
   "outputs": [],
   "source": [
    "# Check if data has missing values in the Description column\n"
   ]
  },
  {
   "cell_type": "code",
   "execution_count": 92,
   "metadata": {},
   "outputs": [],
   "source": [
    "# Deal with missing values\n"
   ]
  },
  {
   "cell_type": "markdown",
   "metadata": {},
   "source": [
    "## Drop Classes where the number of instances is < 10 (4 marks)"
   ]
  },
  {
   "cell_type": "code",
   "execution_count": 93,
   "metadata": {},
   "outputs": [],
   "source": [
    "# Apply to Level_1 \n"
   ]
  },
  {
   "cell_type": "code",
   "execution_count": 94,
   "metadata": {},
   "outputs": [],
   "source": [
    "# Apply to Level_2\n"
   ]
  },
  {
   "cell_type": "code",
   "execution_count": 95,
   "metadata": {},
   "outputs": [],
   "source": [
    "# Apply to Level_3\n"
   ]
  },
  {
   "cell_type": "markdown",
   "metadata": {},
   "source": [
    "### Now let's write a Function to Prepare Text (4 marks)\n",
    "We will apply it to our DataFrame later on\n",
    "\n",
    "* This function receives a text string and performs the following:\n",
    "* Convert text to lower case\n",
    "* Remove punctuation marks\n",
    "* Apply stemming using the popular Snowball or Porter Stemmer (optional)\n",
    "* Apply NGram Tokenisation\n",
    "* Return the tokenised text as a list of strings"
   ]
  },
  {
   "cell_type": "code",
   "execution_count": 96,
   "metadata": {},
   "outputs": [],
   "source": [
    "from nltk.stem.snowball import SnowballStemmer\n",
    "from nltk.stem import PorterStemmer\n",
    "import string\n",
    "\n",
    "def process_text(text, n = 1):\n",
    "    \"\"\"\n",
    "    Takes in a string of text, then performs the following:\n",
    "    1. Convert text to lower case and remove all punctuation\n",
    "    2. Optionally apply stemming\n",
    "    3. Apply Ngram Tokenisation\n",
    "    4. Returns the tokenised text as a list\n",
    "    \"\"\"\n",
    "    # write steps here\n",
    "    \n",
    "    return tokenised"
   ]
  },
  {
   "cell_type": "code",
   "execution_count": 97,
   "metadata": {},
   "outputs": [
    {
     "ename": "NameError",
     "evalue": "name 'tokenised' is not defined",
     "output_type": "error",
     "traceback": [
      "\u001b[0;31m---------------------------------------------------------------------------\u001b[0m",
      "\u001b[0;31mNameError\u001b[0m                                 Traceback (most recent call last)",
      "\u001b[0;32m/tmp/ipykernel_3732/3240003563.py\u001b[0m in \u001b[0;36m<module>\u001b[0;34m\u001b[0m\n\u001b[1;32m      1\u001b[0m \u001b[0;31m# Here is an example function call\u001b[0m\u001b[0;34m\u001b[0m\u001b[0;34m\u001b[0m\u001b[0;34m\u001b[0m\u001b[0m\n\u001b[0;32m----> 2\u001b[0;31m \u001b[0mprocess_text\u001b[0m\u001b[0;34m(\u001b[0m\u001b[0;34m\"Here we're testing the process_text function, results are as follows:\"\u001b[0m\u001b[0;34m,\u001b[0m \u001b[0mn\u001b[0m \u001b[0;34m=\u001b[0m \u001b[0;36m3\u001b[0m\u001b[0;34m)\u001b[0m\u001b[0;34m\u001b[0m\u001b[0;34m\u001b[0m\u001b[0m\n\u001b[0m",
      "\u001b[0;32m/tmp/ipykernel_3732/409289024.py\u001b[0m in \u001b[0;36mprocess_text\u001b[0;34m(text, n)\u001b[0m\n\u001b[1;32m     13\u001b[0m     \u001b[0;31m# write steps here\u001b[0m\u001b[0;34m\u001b[0m\u001b[0;34m\u001b[0m\u001b[0;34m\u001b[0m\u001b[0m\n\u001b[1;32m     14\u001b[0m \u001b[0;34m\u001b[0m\u001b[0m\n\u001b[0;32m---> 15\u001b[0;31m     \u001b[0;32mreturn\u001b[0m \u001b[0mtokenised\u001b[0m\u001b[0;34m\u001b[0m\u001b[0;34m\u001b[0m\u001b[0m\n\u001b[0m",
      "\u001b[0;31mNameError\u001b[0m: name 'tokenised' is not defined"
     ]
    }
   ],
   "source": [
    "# Here is an example function call\n",
    "process_text(\"Here we're testing the process_text function, results are as follows:\", n = 3)"
   ]
  },
  {
   "cell_type": "code",
   "execution_count": null,
   "metadata": {},
   "outputs": [
    {
     "data": {
      "text/plain": [
       "['here were test',\n",
       " 'were test the',\n",
       " 'test the processtext',\n",
       " 'the processtext function',\n",
       " 'processtext function result',\n",
       " 'function result are',\n",
       " 'result are as',\n",
       " 'are as follow']"
      ]
     },
     "execution_count": 3,
     "metadata": {},
     "output_type": "execute_result"
    }
   ],
   "source": [
    "# Results should look like this:\n",
    "['here were test',\n",
    " 'were test the',\n",
    " 'test the processtext',\n",
    " 'the processtext function',\n",
    " 'processtext function result',\n",
    " 'function result are',\n",
    " 'result are as',\n",
    " 'are as follow']"
   ]
  },
  {
   "cell_type": "markdown",
   "metadata": {},
   "source": [
    "### Now let's apply TF-IDF to extract features from plain text (10 marks)"
   ]
  },
  {
   "cell_type": "code",
   "execution_count": null,
   "metadata": {},
   "outputs": [],
   "source": [
    "# Might take a while...\n",
    "# Here you apply the process_text function to the Description column of the data\n",
    "# Then you pass the results to the bag of words tranformer\n",
    "# See here: https://scikit-learn.org/stable/modules/generated/sklearn.feature_extraction.text.CountVectorizer.html\n",
    "\n"
   ]
  },
  {
   "cell_type": "markdown",
   "metadata": {},
   "source": [
    "Now we can use .transform on our Bag-of-Words (bow) transformed object and transform the entire DataFrame of text file contents. Let's go ahead and check out how the bag-of-words counts for the entire corpus in a large, sparse matrix:"
   ]
  },
  {
   "cell_type": "code",
   "execution_count": null,
   "metadata": {},
   "outputs": [],
   "source": [
    "# After that you pass the result of the previous step to sklearn's TfidfTransformer\n",
    "# which will convert them into a feature matrix\n",
    "# See here: https://scikit-learn.org/stable/modules/generated/sklearn.feature_extraction.text.TfidfTransformer.html\n",
    "    \n"
   ]
  },
  {
   "cell_type": "code",
   "execution_count": null,
   "metadata": {},
   "outputs": [],
   "source": [
    "# The resulting matrix is in sparse format, we can transform it into dense\n",
    "# Code prepared for you so you can see what results look like\n",
    "text_tfidf = pd.DataFrame(text_tfidf.toarray())"
   ]
  },
  {
   "cell_type": "code",
   "execution_count": null,
   "metadata": {},
   "outputs": [
    {
     "data": {
      "text/html": [
       "<div>\n",
       "<style scoped>\n",
       "    .dataframe tbody tr th:only-of-type {\n",
       "        vertical-align: middle;\n",
       "    }\n",
       "\n",
       "    .dataframe tbody tr th {\n",
       "        vertical-align: top;\n",
       "    }\n",
       "\n",
       "    .dataframe thead th {\n",
       "        text-align: right;\n",
       "    }\n",
       "</style>\n",
       "<table border=\"1\" class=\"dataframe\">\n",
       "  <thead>\n",
       "    <tr style=\"text-align: right;\">\n",
       "      <th></th>\n",
       "      <th>0</th>\n",
       "      <th>1</th>\n",
       "      <th>2</th>\n",
       "      <th>3</th>\n",
       "      <th>4</th>\n",
       "      <th>5</th>\n",
       "      <th>6</th>\n",
       "      <th>7</th>\n",
       "      <th>8</th>\n",
       "      <th>9</th>\n",
       "      <th>...</th>\n",
       "      <th>16242</th>\n",
       "      <th>16243</th>\n",
       "      <th>16244</th>\n",
       "      <th>16245</th>\n",
       "      <th>16246</th>\n",
       "      <th>16247</th>\n",
       "      <th>16248</th>\n",
       "      <th>16249</th>\n",
       "      <th>16250</th>\n",
       "      <th>16251</th>\n",
       "    </tr>\n",
       "  </thead>\n",
       "  <tbody>\n",
       "    <tr>\n",
       "      <th>0</th>\n",
       "      <td>0.0</td>\n",
       "      <td>0.0</td>\n",
       "      <td>0.0</td>\n",
       "      <td>0.0</td>\n",
       "      <td>0.0</td>\n",
       "      <td>0.0</td>\n",
       "      <td>0.0</td>\n",
       "      <td>0.0</td>\n",
       "      <td>0.0</td>\n",
       "      <td>0.0</td>\n",
       "      <td>...</td>\n",
       "      <td>0.0</td>\n",
       "      <td>0.0</td>\n",
       "      <td>0.0</td>\n",
       "      <td>0.0</td>\n",
       "      <td>0.0</td>\n",
       "      <td>0.0</td>\n",
       "      <td>0.0</td>\n",
       "      <td>0.0</td>\n",
       "      <td>0.0</td>\n",
       "      <td>0.0</td>\n",
       "    </tr>\n",
       "    <tr>\n",
       "      <th>1</th>\n",
       "      <td>0.0</td>\n",
       "      <td>0.0</td>\n",
       "      <td>0.0</td>\n",
       "      <td>0.0</td>\n",
       "      <td>0.0</td>\n",
       "      <td>0.0</td>\n",
       "      <td>0.0</td>\n",
       "      <td>0.0</td>\n",
       "      <td>0.0</td>\n",
       "      <td>0.0</td>\n",
       "      <td>...</td>\n",
       "      <td>0.0</td>\n",
       "      <td>0.0</td>\n",
       "      <td>0.0</td>\n",
       "      <td>0.0</td>\n",
       "      <td>0.0</td>\n",
       "      <td>0.0</td>\n",
       "      <td>0.0</td>\n",
       "      <td>0.0</td>\n",
       "      <td>0.0</td>\n",
       "      <td>0.0</td>\n",
       "    </tr>\n",
       "    <tr>\n",
       "      <th>2</th>\n",
       "      <td>0.0</td>\n",
       "      <td>0.0</td>\n",
       "      <td>0.0</td>\n",
       "      <td>0.0</td>\n",
       "      <td>0.0</td>\n",
       "      <td>0.0</td>\n",
       "      <td>0.0</td>\n",
       "      <td>0.0</td>\n",
       "      <td>0.0</td>\n",
       "      <td>0.0</td>\n",
       "      <td>...</td>\n",
       "      <td>0.0</td>\n",
       "      <td>0.0</td>\n",
       "      <td>0.0</td>\n",
       "      <td>0.0</td>\n",
       "      <td>0.0</td>\n",
       "      <td>0.0</td>\n",
       "      <td>0.0</td>\n",
       "      <td>0.0</td>\n",
       "      <td>0.0</td>\n",
       "      <td>0.0</td>\n",
       "    </tr>\n",
       "    <tr>\n",
       "      <th>3</th>\n",
       "      <td>0.0</td>\n",
       "      <td>0.0</td>\n",
       "      <td>0.0</td>\n",
       "      <td>0.0</td>\n",
       "      <td>0.0</td>\n",
       "      <td>0.0</td>\n",
       "      <td>0.0</td>\n",
       "      <td>0.0</td>\n",
       "      <td>0.0</td>\n",
       "      <td>0.0</td>\n",
       "      <td>...</td>\n",
       "      <td>0.0</td>\n",
       "      <td>0.0</td>\n",
       "      <td>0.0</td>\n",
       "      <td>0.0</td>\n",
       "      <td>0.0</td>\n",
       "      <td>0.0</td>\n",
       "      <td>0.0</td>\n",
       "      <td>0.0</td>\n",
       "      <td>0.0</td>\n",
       "      <td>0.0</td>\n",
       "    </tr>\n",
       "    <tr>\n",
       "      <th>4</th>\n",
       "      <td>0.0</td>\n",
       "      <td>0.0</td>\n",
       "      <td>0.0</td>\n",
       "      <td>0.0</td>\n",
       "      <td>0.0</td>\n",
       "      <td>0.0</td>\n",
       "      <td>0.0</td>\n",
       "      <td>0.0</td>\n",
       "      <td>0.0</td>\n",
       "      <td>0.0</td>\n",
       "      <td>...</td>\n",
       "      <td>0.0</td>\n",
       "      <td>0.0</td>\n",
       "      <td>0.0</td>\n",
       "      <td>0.0</td>\n",
       "      <td>0.0</td>\n",
       "      <td>0.0</td>\n",
       "      <td>0.0</td>\n",
       "      <td>0.0</td>\n",
       "      <td>0.0</td>\n",
       "      <td>0.0</td>\n",
       "    </tr>\n",
       "  </tbody>\n",
       "</table>\n",
       "<p>5 rows × 16252 columns</p>\n",
       "</div>"
      ],
      "text/plain": [
       "   0      1      2      3      4      5      6      7      8      9      ...  \\\n",
       "0    0.0    0.0    0.0    0.0    0.0    0.0    0.0    0.0    0.0    0.0  ...   \n",
       "1    0.0    0.0    0.0    0.0    0.0    0.0    0.0    0.0    0.0    0.0  ...   \n",
       "2    0.0    0.0    0.0    0.0    0.0    0.0    0.0    0.0    0.0    0.0  ...   \n",
       "3    0.0    0.0    0.0    0.0    0.0    0.0    0.0    0.0    0.0    0.0  ...   \n",
       "4    0.0    0.0    0.0    0.0    0.0    0.0    0.0    0.0    0.0    0.0  ...   \n",
       "\n",
       "   16242  16243  16244  16245  16246  16247  16248  16249  16250  16251  \n",
       "0    0.0    0.0    0.0    0.0    0.0    0.0    0.0    0.0    0.0    0.0  \n",
       "1    0.0    0.0    0.0    0.0    0.0    0.0    0.0    0.0    0.0    0.0  \n",
       "2    0.0    0.0    0.0    0.0    0.0    0.0    0.0    0.0    0.0    0.0  \n",
       "3    0.0    0.0    0.0    0.0    0.0    0.0    0.0    0.0    0.0    0.0  \n",
       "4    0.0    0.0    0.0    0.0    0.0    0.0    0.0    0.0    0.0    0.0  \n",
       "\n",
       "[5 rows x 16252 columns]"
      ]
     },
     "execution_count": 18,
     "metadata": {},
     "output_type": "execute_result"
    }
   ],
   "source": [
    "# This is an example result, the matrix will contain lots of zero values, that is expected\n",
    "# Some values will be non-zero\n",
    "text_tfidf.head()"
   ]
  },
  {
   "cell_type": "markdown",
   "metadata": {},
   "source": [
    "# Now the Data is Ready for Classifier Usage"
   ]
  },
  {
   "cell_type": "markdown",
   "metadata": {},
   "source": [
    "### Split Data into Train and Test sets (4 marks)"
   ]
  },
  {
   "cell_type": "code",
   "execution_count": null,
   "metadata": {},
   "outputs": [],
   "source": [
    "# Train/Test split\n"
   ]
  },
  {
   "cell_type": "code",
   "execution_count": null,
   "metadata": {},
   "outputs": [],
   "source": [
    "# You might need to reset index in each dataframe (depends on you how you do things)\n",
    "# done for you to make it clearer\n",
    "X_train.reset_index(inplace=True, drop=True)\n",
    "X_test.reset_index(inplace=True, drop=True)\n",
    "y_train.reset_index(inplace=True, drop=True)\n",
    "y_test.reset_index(inplace=True, drop=True)"
   ]
  },
  {
   "cell_type": "code",
   "execution_count": null,
   "metadata": {},
   "outputs": [],
   "source": [
    "# You might need to take classes as separate columns (depends on you how you do things)\n",
    "class1 = y_train['Level_1'].astype(str)\n",
    "class2 = y_train['Level_2'].astype(str)\n",
    "class3 = y_train['Level_3'].astype(str)"
   ]
  },
  {
   "cell_type": "markdown",
   "metadata": {},
   "source": [
    "## Model training for the three levels (8 marks)"
   ]
  },
  {
   "cell_type": "code",
   "execution_count": null,
   "metadata": {},
   "outputs": [],
   "source": [
    "# Create and save model for level 1\n"
   ]
  },
  {
   "cell_type": "code",
   "execution_count": null,
   "metadata": {},
   "outputs": [],
   "source": [
    "## Create and save models for level 2\n"
   ]
  },
  {
   "cell_type": "code",
   "execution_count": null,
   "metadata": {},
   "outputs": [],
   "source": [
    "## Create and save models for level 3\n"
   ]
  },
  {
   "cell_type": "markdown",
   "metadata": {},
   "source": [
    "## Predict the test set (8 marks)"
   ]
  },
  {
   "cell_type": "code",
   "execution_count": null,
   "metadata": {},
   "outputs": [],
   "source": [
    "# Creating an empty Dataframe with column names only (depends on you how you do things)\n",
    "results = pd.DataFrame(columns=['Level1_Pred', 'Level2_Pred', 'Level3_Pred'])\n",
    "\n",
    "## Here we reload the saved models and use them to predict the levels\n",
    "# load model for level 1 (done for you)\n",
    "with open('level1.pk', 'rb') as nb:\n",
    "    model = pickle.load(nb)\n",
    "\n",
    "## loop through the test data, predict level 1, then based on that predict level 2\n",
    "## and based on level 2 predict level 3 (you need to load saved models accordingly)\n",
    "\n",
    "    "
   ]
  },
  {
   "cell_type": "code",
   "execution_count": null,
   "metadata": {},
   "outputs": [
    {
     "data": {
      "text/html": [
       "<div>\n",
       "<style scoped>\n",
       "    .dataframe tbody tr th:only-of-type {\n",
       "        vertical-align: middle;\n",
       "    }\n",
       "\n",
       "    .dataframe tbody tr th {\n",
       "        vertical-align: top;\n",
       "    }\n",
       "\n",
       "    .dataframe thead th {\n",
       "        text-align: right;\n",
       "    }\n",
       "</style>\n",
       "<table border=\"1\" class=\"dataframe\">\n",
       "  <thead>\n",
       "    <tr style=\"text-align: right;\">\n",
       "      <th></th>\n",
       "      <th>Level1_Pred</th>\n",
       "      <th>Level2_Pred</th>\n",
       "      <th>Level3_Pred</th>\n",
       "    </tr>\n",
       "  </thead>\n",
       "  <tbody>\n",
       "    <tr>\n",
       "      <th>0</th>\n",
       "      <td>2CEC27F1</td>\n",
       "      <td>BAE8A</td>\n",
       "      <td>2ABA</td>\n",
       "    </tr>\n",
       "    <tr>\n",
       "      <th>1</th>\n",
       "      <td>2CEC27F1</td>\n",
       "      <td>BAE8A</td>\n",
       "      <td>2ABA</td>\n",
       "    </tr>\n",
       "    <tr>\n",
       "      <th>2</th>\n",
       "      <td>09BF5150</td>\n",
       "      <td>C7E19</td>\n",
       "      <td>D06E</td>\n",
       "    </tr>\n",
       "    <tr>\n",
       "      <th>3</th>\n",
       "      <td>4513C920</td>\n",
       "      <td>F4055</td>\n",
       "      <td>7C00</td>\n",
       "    </tr>\n",
       "    <tr>\n",
       "      <th>4</th>\n",
       "      <td>4513C920</td>\n",
       "      <td>F4055</td>\n",
       "      <td>7C00</td>\n",
       "    </tr>\n",
       "    <tr>\n",
       "      <th>...</th>\n",
       "      <td>...</td>\n",
       "      <td>...</td>\n",
       "      <td>...</td>\n",
       "    </tr>\n",
       "    <tr>\n",
       "      <th>2121</th>\n",
       "      <td>09BF5150</td>\n",
       "      <td>262E7</td>\n",
       "      <td>29B3</td>\n",
       "    </tr>\n",
       "    <tr>\n",
       "      <th>2122</th>\n",
       "      <td>69286F45</td>\n",
       "      <td>2D5A3</td>\n",
       "      <td>28A7</td>\n",
       "    </tr>\n",
       "    <tr>\n",
       "      <th>2123</th>\n",
       "      <td>3E1E0D78</td>\n",
       "      <td>9D9EE</td>\n",
       "      <td>05A0</td>\n",
       "    </tr>\n",
       "    <tr>\n",
       "      <th>2124</th>\n",
       "      <td>57164AC1</td>\n",
       "      <td>7B638</td>\n",
       "      <td>0F8B</td>\n",
       "    </tr>\n",
       "    <tr>\n",
       "      <th>2125</th>\n",
       "      <td>90A8B052</td>\n",
       "      <td>C719A</td>\n",
       "      <td>A0E2</td>\n",
       "    </tr>\n",
       "  </tbody>\n",
       "</table>\n",
       "<p>2126 rows × 3 columns</p>\n",
       "</div>"
      ],
      "text/plain": [
       "     Level1_Pred Level2_Pred Level3_Pred\n",
       "0       2CEC27F1       BAE8A        2ABA\n",
       "1       2CEC27F1       BAE8A        2ABA\n",
       "2       09BF5150       C7E19        D06E\n",
       "3       4513C920       F4055        7C00\n",
       "4       4513C920       F4055        7C00\n",
       "...          ...         ...         ...\n",
       "2121    09BF5150       262E7        29B3\n",
       "2122    69286F45       2D5A3        28A7\n",
       "2123    3E1E0D78       9D9EE        05A0\n",
       "2124    57164AC1       7B638        0F8B\n",
       "2125    90A8B052       C719A        A0E2\n",
       "\n",
       "[2126 rows x 3 columns]"
      ]
     },
     "execution_count": 27,
     "metadata": {},
     "output_type": "execute_result"
    }
   ],
   "source": [
    "## After you add the predictions to the results dataframe\n",
    "## they should look like this\n",
    "results"
   ]
  },
  {
   "cell_type": "markdown",
   "metadata": {},
   "source": [
    "## Compute Accuracy on each level (4 marks)\n",
    "Now you have the predictions for each level (in the test data), and you also have the actual levels, you can compute the accurcay"
   ]
  },
  {
   "cell_type": "code",
   "execution_count": null,
   "metadata": {},
   "outputs": [],
   "source": [
    "# Level 1 accuracy\n"
   ]
  },
  {
   "cell_type": "code",
   "execution_count": null,
   "metadata": {},
   "outputs": [],
   "source": [
    "# Level 2 accuracy\n"
   ]
  },
  {
   "cell_type": "code",
   "execution_count": null,
   "metadata": {},
   "outputs": [],
   "source": [
    "# Level 3 accuracy\n"
   ]
  },
  {
   "cell_type": "markdown",
   "metadata": {},
   "source": [
    "## Well done!"
   ]
  }
 ],
 "metadata": {
  "kernelspec": {
   "display_name": "Python 3",
   "language": "python",
   "name": "python3"
  },
  "language_info": {
   "codemirror_mode": {
    "name": "ipython",
    "version": 3
   },
   "file_extension": ".py",
   "mimetype": "text/x-python",
   "name": "python",
   "nbconvert_exporter": "python",
   "pygments_lexer": "ipython3",
   "version": "3.8.12"
  }
 },
 "nbformat": 4,
 "nbformat_minor": 4
}
